{
 "cells": [
  {
   "cell_type": "code",
   "execution_count": 1199,
   "metadata": {},
   "outputs": [],
   "source": [
    "import numpy as np\n",
    "import pandas as pd\n",
    "from matplotlib import pyplot as plt\n",
    "import random\n",
    "import seaborn as sns"
   ]
  },
  {
   "attachments": {},
   "cell_type": "markdown",
   "metadata": {},
   "source": [
    "# Normalization under a simple generative model "
   ]
  },
  {
   "attachments": {},
   "cell_type": "markdown",
   "metadata": {},
   "source": [
    "## (a) \n",
    "Stimulating the distribution of number of RNA molecules observed for different genes"
   ]
  },
  {
   "cell_type": "code",
   "execution_count": 1233,
   "metadata": {},
   "outputs": [],
   "source": [
    "np.random.seed(42)\n"
   ]
  },
  {
   "cell_type": "code",
   "execution_count": 1234,
   "metadata": {},
   "outputs": [
    {
     "data": {
      "text/html": [
       "<div>\n",
       "<style scoped>\n",
       "    .dataframe tbody tr th:only-of-type {\n",
       "        vertical-align: middle;\n",
       "    }\n",
       "\n",
       "    .dataframe tbody tr th {\n",
       "        vertical-align: top;\n",
       "    }\n",
       "\n",
       "    .dataframe thead th {\n",
       "        text-align: right;\n",
       "    }\n",
       "</style>\n",
       "<table border=\"1\" class=\"dataframe\">\n",
       "  <thead>\n",
       "    <tr style=\"text-align: right;\">\n",
       "      <th></th>\n",
       "      <th>relative_abundance</th>\n",
       "    </tr>\n",
       "  </thead>\n",
       "  <tbody>\n",
       "    <tr>\n",
       "      <th>0</th>\n",
       "      <td>0.004201</td>\n",
       "    </tr>\n",
       "    <tr>\n",
       "      <th>1</th>\n",
       "      <td>0.000391</td>\n",
       "    </tr>\n",
       "    <tr>\n",
       "      <th>2</th>\n",
       "      <td>0.001158</td>\n",
       "    </tr>\n",
       "    <tr>\n",
       "      <th>3</th>\n",
       "      <td>0.000052</td>\n",
       "    </tr>\n",
       "    <tr>\n",
       "      <th>4</th>\n",
       "      <td>0.000927</td>\n",
       "    </tr>\n",
       "    <tr>\n",
       "      <th>...</th>\n",
       "      <td>...</td>\n",
       "    </tr>\n",
       "    <tr>\n",
       "      <th>495</th>\n",
       "      <td>0.001054</td>\n",
       "    </tr>\n",
       "    <tr>\n",
       "      <th>496</th>\n",
       "      <td>0.000417</td>\n",
       "    </tr>\n",
       "    <tr>\n",
       "      <th>497</th>\n",
       "      <td>0.002523</td>\n",
       "    </tr>\n",
       "    <tr>\n",
       "      <th>498</th>\n",
       "      <td>0.000523</td>\n",
       "    </tr>\n",
       "    <tr>\n",
       "      <th>499</th>\n",
       "      <td>0.002028</td>\n",
       "    </tr>\n",
       "  </tbody>\n",
       "</table>\n",
       "<p>500 rows × 1 columns</p>\n",
       "</div>"
      ],
      "text/plain": [
       "     relative_abundance\n",
       "0              0.004201\n",
       "1              0.000391\n",
       "2              0.001158\n",
       "3              0.000052\n",
       "4              0.000927\n",
       "..                  ...\n",
       "495            0.001054\n",
       "496            0.000417\n",
       "497            0.002523\n",
       "498            0.000523\n",
       "499            0.002028\n",
       "\n",
       "[500 rows x 1 columns]"
      ]
     },
     "execution_count": 1234,
     "metadata": {},
     "output_type": "execute_result"
    }
   ],
   "source": [
    "p_vec = pd.read_csv('/Users/linlin/Desktop/2023/121/p.tsv',sep='\\t',names=['relative_abundance']).astype(\"float\")\n",
    "p_vec\n"
   ]
  },
  {
   "cell_type": "markdown",
   "metadata": {},
   "source": [
    "In this question, we have 500 genes in total. So d = 500."
   ]
  },
  {
   "cell_type": "code",
   "execution_count": 1235,
   "metadata": {},
   "outputs": [
    {
     "data": {
      "text/plain": [
       "0.9999999897096994"
      ]
     },
     "execution_count": 1235,
     "metadata": {},
     "output_type": "execute_result"
    }
   ],
   "source": [
    "sum(p_vec['relative_abundance']) #pretty much sum to 1"
   ]
  },
  {
   "cell_type": "code",
   "execution_count": 1236,
   "metadata": {},
   "outputs": [],
   "source": [
    "N1 = [15000, 30000, 150000] #sample population size for question 1"
   ]
  },
  {
   "cell_type": "code",
   "execution_count": 1237,
   "metadata": {},
   "outputs": [],
   "source": [
    "def simulate(N,p_vec):\n",
    "    \"\"\"\n",
    "    INPUT: \n",
    "        N, list of length n, sample sizes\n",
    "        p_vec: list of length d, true relative abundances of genes\n",
    "    OUTPUT: \n",
    "        simu: matrix of size n x d, where simu[i][j] corresponds to number of \n",
    "            molecules of i genes in sampe j\n",
    "    \"\"\"\n",
    "    simu = pd.DataFrame()\n",
    "    for n in range(len(N)):\n",
    "        abundances = np.random.multinomial(N[n], p_vec['relative_abundance'])\n",
    "        simu[str(n)] = abundances\n",
    "    return simu\n",
    " \n",
    "\n",
    "    "
   ]
  },
  {
   "cell_type": "code",
   "execution_count": 1238,
   "metadata": {},
   "outputs": [
    {
     "name": "stdout",
     "output_type": "stream",
     "text": [
      "    0    1    2\n",
      "0  61  132  634\n",
      "1   7   11   52\n",
      "2  18   32  172\n",
      "3   0    3   13\n",
      "4  10   15  132\n"
     ]
    }
   ],
   "source": [
    "simu = simulate(N1,p_vec)\n",
    "print(simu.head())"
   ]
  },
  {
   "cell_type": "code",
   "execution_count": 1239,
   "metadata": {},
   "outputs": [],
   "source": [
    "def plot_simulate(simu, x_idx, y_idx, N):\n",
    "    \"\"\"\n",
    "    INPUT:\n",
    "        simu: simulation matrix from above, \n",
    "        x_idx, y_idx: the two samples to be plotted in a scatterplot\n",
    "        N: list of sample sizes\n",
    "    OUTPUT: \n",
    "        plot a scatterplot of x_idx sample v.s. y_idx sample\n",
    "    \"\"\"\n",
    "    plt.scatter(x = simu.iloc[:,x_idx], y = simu.iloc[:,y_idx],s=2)\n",
    "    plt.xlabel('n = '+str(N[x_idx]))\n",
    "    plt.ylabel('n = '+str(N[y_idx]))\n",
    "    plt.title(\"raw counts of n = \"+str(N[y_idx])+\" v.s. \"+str(N[x_idx]))\n",
    "    ax = plt.gca()\n",
    "    yaxmin,yaxmax = ax.get_ylim()\n",
    "    xaxmin,xaxmax = ax.get_xlim()\n",
    "    axmin = min(xaxmin,yaxmin)\n",
    "    axmax = max(xaxmax,yaxmax)\n",
    "    ax.set_ylim(axmin,axmax)\n",
    "    ax.set_xlim(axmin,axmax)\n",
    "    ax.set_aspect('equal')\n",
    "    "
   ]
  },
  {
   "cell_type": "code",
   "execution_count": 1240,
   "metadata": {},
   "outputs": [
    {
     "data": {
      "image/png": "[encoded data removed]",
      "text/plain": [
       "<Figure size 432x288 with 1 Axes>"
      ]
     },
     "metadata": {
      "needs_background": "light"
     },
     "output_type": "display_data"
    }
   ],
   "source": [
    "plot_simulate(simu,2,0,N1)"
   ]
  },
  {
   "attachments": {},
   "cell_type": "markdown",
   "metadata": {},
   "source": [
    "# (b) \n"
   ]
  },
  {
   "cell_type": "code",
   "execution_count": 1241,
   "metadata": {},
   "outputs": [],
   "source": [
    "def DESeq_norm(mat):\n",
    "    #x-jg, number of molecules of gene g in sample j\n",
    "    \"\"\"\n",
    "    IMPLEMENTATION OF DESeq_style normalization\n",
    "    INPUT:\n",
    "        mat: matrix of dimension n (#of samples) x d (#of genes) \n",
    "            where mat[j][g] is the #of molecules of gene g in sample j\n",
    "    OUTPUT:\n",
    "        s_mat: matrix of dimension n x d \n",
    "        sample_specific_norm_fac: \n",
    "    \"\"\"\n",
    "    #filter out rows with zeros\n",
    "    try:\n",
    "        out = [list((mat == 0).all()).index(True)]\n",
    "        [mat.drop(d, axis=1, inplace=True) for d in out]\n",
    "    except ValueError:\n",
    "         #none to drop\n",
    "         pass\n",
    "\n",
    "    (n_sample,gene_cnt) = mat.shape\n",
    "    mat.columns = list(range(0,gene_cnt))\n",
    "    s_mat = mat\n",
    "    for g in range(gene_cnt):\n",
    "            denominator = (np.sum([mat.iloc[k,g] for k in range(n_sample)])) ** (1/n_sample)\n",
    "            for j in range(n_sample):\n",
    "                if denominator != 0:\n",
    "                    s_mat.iloc[j,g] = mat.iloc[j,g] / denominator\n",
    "    \n",
    "    norm_fac = list(s_mat.apply(np.median,axis=1))\n",
    "\n",
    "    return s_mat, norm_fac"
   ]
  },
  {
   "cell_type": "code",
   "execution_count": 1245,
   "metadata": {},
   "outputs": [
    {
     "data": {
      "text/html": [
       "<div>\n",
       "<style scoped>\n",
       "    .dataframe tbody tr th:only-of-type {\n",
       "        vertical-align: middle;\n",
       "    }\n",
       "\n",
       "    .dataframe tbody tr th {\n",
       "        vertical-align: top;\n",
       "    }\n",
       "\n",
       "    .dataframe thead th {\n",
       "        text-align: right;\n",
       "    }\n",
       "</style>\n",
       "<table border=\"1\" class=\"dataframe\">\n",
       "  <thead>\n",
       "    <tr style=\"text-align: right;\">\n",
       "      <th></th>\n",
       "      <th>0</th>\n",
       "      <th>1</th>\n",
       "      <th>2</th>\n",
       "      <th>3</th>\n",
       "      <th>4</th>\n",
       "      <th>5</th>\n",
       "      <th>6</th>\n",
       "      <th>7</th>\n",
       "      <th>8</th>\n",
       "      <th>9</th>\n",
       "      <th>...</th>\n",
       "      <th>489</th>\n",
       "      <th>490</th>\n",
       "      <th>491</th>\n",
       "      <th>492</th>\n",
       "      <th>493</th>\n",
       "      <th>494</th>\n",
       "      <th>495</th>\n",
       "      <th>496</th>\n",
       "      <th>497</th>\n",
       "      <th>498</th>\n",
       "    </tr>\n",
       "  </thead>\n",
       "  <tbody>\n",
       "    <tr>\n",
       "      <th>0</th>\n",
       "      <td>6.498723</td>\n",
       "      <td>1.698499</td>\n",
       "      <td>2.972726</td>\n",
       "      <td>0.000000</td>\n",
       "      <td>1.853674</td>\n",
       "      <td>0.510873</td>\n",
       "      <td>10.168295</td>\n",
       "      <td>2.999796</td>\n",
       "      <td>0.000000</td>\n",
       "      <td>9.211896</td>\n",
       "      <td>...</td>\n",
       "      <td>3.698684</td>\n",
       "      <td>6.453880</td>\n",
       "      <td>3.105939</td>\n",
       "      <td>3.225395</td>\n",
       "      <td>5.115118</td>\n",
       "      <td>2.131088</td>\n",
       "      <td>0.708245</td>\n",
       "      <td>3.683478</td>\n",
       "      <td>2.215155</td>\n",
       "      <td>3.778036</td>\n",
       "    </tr>\n",
       "    <tr>\n",
       "      <th>1</th>\n",
       "      <td>14.062810</td>\n",
       "      <td>2.669070</td>\n",
       "      <td>5.284846</td>\n",
       "      <td>1.190551</td>\n",
       "      <td>2.780512</td>\n",
       "      <td>2.043492</td>\n",
       "      <td>17.933174</td>\n",
       "      <td>6.528969</td>\n",
       "      <td>0.436790</td>\n",
       "      <td>14.880756</td>\n",
       "      <td>...</td>\n",
       "      <td>6.575438</td>\n",
       "      <td>12.907760</td>\n",
       "      <td>5.901284</td>\n",
       "      <td>7.218742</td>\n",
       "      <td>7.941894</td>\n",
       "      <td>6.721124</td>\n",
       "      <td>2.832979</td>\n",
       "      <td>10.542368</td>\n",
       "      <td>4.430309</td>\n",
       "      <td>9.515055</td>\n",
       "    </tr>\n",
       "    <tr>\n",
       "      <th>2</th>\n",
       "      <td>67.544100</td>\n",
       "      <td>12.617423</td>\n",
       "      <td>28.406046</td>\n",
       "      <td>5.159053</td>\n",
       "      <td>24.468502</td>\n",
       "      <td>12.771824</td>\n",
       "      <td>88.926357</td>\n",
       "      <td>22.586703</td>\n",
       "      <td>4.804693</td>\n",
       "      <td>73.492712</td>\n",
       "      <td>...</td>\n",
       "      <td>43.014325</td>\n",
       "      <td>64.210637</td>\n",
       "      <td>32.457062</td>\n",
       "      <td>31.946771</td>\n",
       "      <td>42.132418</td>\n",
       "      <td>28.359864</td>\n",
       "      <td>14.400977</td>\n",
       "      <td>47.758195</td>\n",
       "      <td>13.733959</td>\n",
       "      <td>37.780364</td>\n",
       "    </tr>\n",
       "  </tbody>\n",
       "</table>\n",
       "<p>3 rows × 499 columns</p>\n",
       "</div>"
      ],
      "text/plain": [
       "         0          1          2         3          4          5          6    \\\n",
       "0   6.498723   1.698499   2.972726  0.000000   1.853674   0.510873  10.168295   \n",
       "1  14.062810   2.669070   5.284846  1.190551   2.780512   2.043492  17.933174   \n",
       "2  67.544100  12.617423  28.406046  5.159053  24.468502  12.771824  88.926357   \n",
       "\n",
       "         7         8          9    ...        489        490        491  \\\n",
       "0   2.999796  0.000000   9.211896  ...   3.698684   6.453880   3.105939   \n",
       "1   6.528969  0.436790  14.880756  ...   6.575438  12.907760   5.901284   \n",
       "2  22.586703  4.804693  73.492712  ...  43.014325  64.210637  32.457062   \n",
       "\n",
       "         492        493        494        495        496        497        498  \n",
       "0   3.225395   5.115118   2.131088   0.708245   3.683478   2.215155   3.778036  \n",
       "1   7.218742   7.941894   6.721124   2.832979  10.542368   4.430309   9.515055  \n",
       "2  31.946771  42.132418  28.359864  14.400977  47.758195  13.733959  37.780364  \n",
       "\n",
       "[3 rows x 499 columns]"
      ]
     },
     "execution_count": 1245,
     "metadata": {},
     "output_type": "execute_result"
    }
   ],
   "source": [
    "s_mat, norm_fac = DESeq_norm(simu.T)\n",
    "s_mat.head()"
   ]
  },
  {
   "cell_type": "code",
   "execution_count": 1246,
   "metadata": {},
   "outputs": [
    {
     "data": {
      "text/plain": [
       "[3.225395190674459, 6.166207596789803, 31.557278251706972]"
      ]
     },
     "execution_count": 1246,
     "metadata": {},
     "output_type": "execute_result"
    }
   ],
   "source": [
    "norm_fac"
   ]
  },
  {
   "cell_type": "code",
   "execution_count": 1247,
   "metadata": {},
   "outputs": [
    {
     "data": {
      "text/html": [
       "<div>\n",
       "<style scoped>\n",
       "    .dataframe tbody tr th:only-of-type {\n",
       "        vertical-align: middle;\n",
       "    }\n",
       "\n",
       "    .dataframe tbody tr th {\n",
       "        vertical-align: top;\n",
       "    }\n",
       "\n",
       "    .dataframe thead th {\n",
       "        text-align: right;\n",
       "    }\n",
       "</style>\n",
       "<table border=\"1\" class=\"dataframe\">\n",
       "  <thead>\n",
       "    <tr style=\"text-align: right;\">\n",
       "      <th></th>\n",
       "      <th>no. sample</th>\n",
       "      <th># of genes</th>\n",
       "    </tr>\n",
       "  </thead>\n",
       "  <tbody>\n",
       "    <tr>\n",
       "      <th>0</th>\n",
       "      <td>0</td>\n",
       "      <td>6.498723</td>\n",
       "    </tr>\n",
       "    <tr>\n",
       "      <th>1</th>\n",
       "      <td>0</td>\n",
       "      <td>1.698499</td>\n",
       "    </tr>\n",
       "    <tr>\n",
       "      <th>2</th>\n",
       "      <td>0</td>\n",
       "      <td>2.972726</td>\n",
       "    </tr>\n",
       "    <tr>\n",
       "      <th>3</th>\n",
       "      <td>0</td>\n",
       "      <td>0.000000</td>\n",
       "    </tr>\n",
       "    <tr>\n",
       "      <th>4</th>\n",
       "      <td>0</td>\n",
       "      <td>1.853674</td>\n",
       "    </tr>\n",
       "    <tr>\n",
       "      <th>...</th>\n",
       "      <td>...</td>\n",
       "      <td>...</td>\n",
       "    </tr>\n",
       "    <tr>\n",
       "      <th>1492</th>\n",
       "      <td>2</td>\n",
       "      <td>28.359864</td>\n",
       "    </tr>\n",
       "    <tr>\n",
       "      <th>1493</th>\n",
       "      <td>2</td>\n",
       "      <td>14.400977</td>\n",
       "    </tr>\n",
       "    <tr>\n",
       "      <th>1494</th>\n",
       "      <td>2</td>\n",
       "      <td>47.758195</td>\n",
       "    </tr>\n",
       "    <tr>\n",
       "      <th>1495</th>\n",
       "      <td>2</td>\n",
       "      <td>13.733959</td>\n",
       "    </tr>\n",
       "    <tr>\n",
       "      <th>1496</th>\n",
       "      <td>2</td>\n",
       "      <td>37.780364</td>\n",
       "    </tr>\n",
       "  </tbody>\n",
       "</table>\n",
       "<p>1497 rows × 2 columns</p>\n",
       "</div>"
      ],
      "text/plain": [
       "     no. sample  # of genes\n",
       "0             0    6.498723\n",
       "1             0    1.698499\n",
       "2             0    2.972726\n",
       "3             0    0.000000\n",
       "4             0    1.853674\n",
       "...         ...         ...\n",
       "1492          2   28.359864\n",
       "1493          2   14.400977\n",
       "1494          2   47.758195\n",
       "1495          2   13.733959\n",
       "1496          2   37.780364\n",
       "\n",
       "[1497 rows x 2 columns]"
      ]
     },
     "execution_count": 1247,
     "metadata": {},
     "output_type": "execute_result"
    }
   ],
   "source": [
    "s_mat.T.melt(id_vars=None, var_name='no. sample', value_name='# of genes')"
   ]
  },
  {
   "attachments": {},
   "cell_type": "markdown",
   "metadata": {},
   "source": [
    "# (c) "
   ]
  },
  {
   "cell_type": "code",
   "execution_count": 1248,
   "metadata": {},
   "outputs": [],
   "source": [
    "\n",
    "def plot_s_hist(s_mat,idx,N):\n",
    "    \"\"\"\n",
    "        make histograms of s_jg values for sample with list of indices\n",
    "        also scatterplots\n",
    "    \"\"\"\n",
    "\n",
    "    dat = s_mat.T.melt(id_vars=None, var_name='no. sample', value_name='s values')\n",
    "    dat = dat[dat[\"no. sample\"].isin(idx)]\n",
    "    sns.displot(\n",
    "        dat, x=\"s values\", col=\"no. sample\",kind = 'hist',\n",
    "        facet_kws=dict(margin_titles=True),\n",
    "        bins = 50\n",
    "    )\n",
    "    pop_size = [N[int(i)] for i in idx]\n",
    "    plt.gcf().set_size_inches(10,5)\n",
    "    plt.suptitle(\"S values distribution.\\n Respective sample size: \"+str(pop_size))\n",
    "    plt.tight_layout()\n"
   ]
  },
  {
   "cell_type": "code",
   "execution_count": 1249,
   "metadata": {},
   "outputs": [
    {
     "data": {
      "image/png": "[encoded data removed]",
      "text/plain": [
       "<Figure size 720x360 with 2 Axes>"
      ]
     },
     "metadata": {
      "needs_background": "light"
     },
     "output_type": "display_data"
    }
   ],
   "source": [
    "plot_s_hist(s_mat,['0','2'],N1)"
   ]
  },
  {
   "attachments": {},
   "cell_type": "markdown",
   "metadata": {},
   "source": [
    "The normalizer/s - values distribution of the first sample (n=15,000) is much more right-skewed than the last sample (n=150,000). The distributions of the normalizer values are reflective of the sample sizes —— smaller sample has overall smaller normalizers, vice versa. Thus, if we divide gene counts by the s-values, we could normalize our observations based on size factors. "
   ]
  },
  {
   "cell_type": "code",
   "execution_count": 1255,
   "metadata": {},
   "outputs": [],
   "source": [
    "\n",
    "def s_scatt(mat, x_idx,y_idx,N):\n",
    "    fig, ax = plt.subplots()\n",
    "    ax.scatter(y = mat.iloc[y_idx,:],x = mat.iloc[x_idx,:], s=2)\n",
    "    plt.xlabel('n = '+str(N[x_idx]))\n",
    "    plt.ylabel('n = '+str(N[y_idx]))\n",
    "    plt.title(\"normalizer/s of samples of size n = \"+str(N[y_idx])+' v.s. '+str(N[x_idx]))\n",
    "    \n",
    "    yaxmin,yaxmax = ax.get_ylim()\n",
    "    xaxmin,xaxmax = ax.get_xlim()\n",
    "    axmin = min(xaxmin,yaxmin)\n",
    "    axmax = max(xaxmax,yaxmax)\n",
    "    ax.set_ylim(axmin,axmax)\n",
    "    ax.set_xlim(axmin,axmax)\n",
    "    ax.set_aspect('equal')\n",
    "    #plt.gcf().set_size_inches(5,5)\n",
    "    "
   ]
  },
  {
   "cell_type": "code",
   "execution_count": 1271,
   "metadata": {},
   "outputs": [
    {
     "data": {
      "image/png": "[encoded data removed]",
      "text/plain": [
       "<Figure size 432x288 with 1 Axes>"
      ]
     },
     "metadata": {
      "needs_background": "light"
     },
     "output_type": "display_data"
    }
   ],
   "source": [
    "s_scatt(s_mat, 2,0,N1)"
   ]
  },
  {
   "attachments": {},
   "cell_type": "markdown",
   "metadata": {},
   "source": [
    "Such trend is also evident in the scatter plot, where for the same gene (a point), the s-value/size factor is almost one order of magnitude lower in the sample with a size of 15,000 than in the sample with a size of 150,000."
   ]
  },
  {
   "cell_type": "code",
   "execution_count": 1257,
   "metadata": {},
   "outputs": [
    {
     "name": "stdout",
     "output_type": "stream",
     "text": [
      "[3.225395190674459, 6.166207596789803, 31.557278251706972]\n"
     ]
    }
   ],
   "source": [
    "print(norm_fac)"
   ]
  },
  {
   "attachments": {},
   "cell_type": "markdown",
   "metadata": {},
   "source": [
    "The sample-specific normalization factor of the larger sample is about 10 times the larger sample, proportional to their sample sizes. "
   ]
  },
  {
   "attachments": {},
   "cell_type": "markdown",
   "metadata": {},
   "source": [
    "# (d) "
   ]
  },
  {
   "cell_type": "code",
   "execution_count": 1258,
   "metadata": {},
   "outputs": [],
   "source": [
    "def s_norm(mat, norm_fac):\n",
    "    norm_mat = mat\n",
    "    for i in range(len(norm_fac)):\n",
    "        norm_mat.iloc[i,:] = mat.iloc[i,:].div(norm_fac[i])\n",
    "    return norm_mat"
   ]
  },
  {
   "cell_type": "code",
   "execution_count": 1273,
   "metadata": {},
   "outputs": [
    {
     "data": {
      "text/plain": [
       "Text(0.5, 1.0, '')"
      ]
     },
     "execution_count": 1273,
     "metadata": {},
     "output_type": "execute_result"
    },
    {
     "data": {
      "image/png": "[encoded data removed]",
      "text/plain": [
       "<Figure size 432x288 with 1 Axes>"
      ]
     },
     "metadata": {
      "needs_background": "light"
     },
     "output_type": "display_data"
    }
   ],
   "source": [
    "norm_mat = s_norm(simu.T,norm_fac)\n",
    "plot_simulate(norm_mat.T,0,2,N1)\n",
    "plt.suptitle(\"Normalized counts of n = 150000 vs n = 15000\")\n",
    "plt.title(\"\")"
   ]
  },
  {
   "attachments": {},
   "cell_type": "markdown",
   "metadata": {},
   "source": [
    "Comparing to the scatterplot of raw counts from question one, the points are now pretty much aligned to the y=x line because the counts are size-normalized. "
   ]
  },
  {
   "attachments": {},
   "cell_type": "markdown",
   "metadata": {},
   "source": [
    "# (e) "
   ]
  },
  {
   "cell_type": "code",
   "execution_count": 1260,
   "metadata": {},
   "outputs": [],
   "source": [
    "N2 = [1e6,1e6,1e6]\n",
    "simu_e = simulate(N2,p_vec)\n"
   ]
  },
  {
   "cell_type": "code",
   "execution_count": 1261,
   "metadata": {},
   "outputs": [],
   "source": [
    "s_mat_e, norm_fac_e = DESeq_norm(simu_e.T)"
   ]
  },
  {
   "cell_type": "code",
   "execution_count": 1262,
   "metadata": {},
   "outputs": [
    {
     "data": {
      "image/png": "[encoded data removed]",
      "text/plain": [
       "<Figure size 720x360 with 1 Axes>"
      ]
     },
     "metadata": {
      "needs_background": "light"
     },
     "output_type": "display_data"
    }
   ],
   "source": [
    "plot_s_hist(s_mat_e,['0'],N2)"
   ]
  },
  {
   "cell_type": "code",
   "execution_count": 1263,
   "metadata": {},
   "outputs": [
    {
     "name": "stdout",
     "output_type": "stream",
     "text": [
      "[83.70973369020427, 84.32447114699472, 83.39977810108644]\n"
     ]
    }
   ],
   "source": [
    "print(norm_fac_e)"
   ]
  },
  {
   "attachments": {},
   "cell_type": "markdown",
   "metadata": {},
   "source": [
    "The results are intuitive. The sample size increases by almost an order of magnitude; the sample specific normalization factor n double, and there is an overall increase in s values. "
   ]
  },
  {
   "attachments": {},
   "cell_type": "markdown",
   "metadata": {},
   "source": [
    "# (f) "
   ]
  },
  {
   "cell_type": "code",
   "execution_count": 1264,
   "metadata": {},
   "outputs": [
    {
     "data": {
      "text/html": [
       "<div>\n",
       "<style scoped>\n",
       "    .dataframe tbody tr th:only-of-type {\n",
       "        vertical-align: middle;\n",
       "    }\n",
       "\n",
       "    .dataframe tbody tr th {\n",
       "        vertical-align: top;\n",
       "    }\n",
       "\n",
       "    .dataframe thead th {\n",
       "        text-align: right;\n",
       "    }\n",
       "</style>\n",
       "<table border=\"1\" class=\"dataframe\">\n",
       "  <thead>\n",
       "    <tr style=\"text-align: right;\">\n",
       "      <th></th>\n",
       "      <th>relative_abundance</th>\n",
       "    </tr>\n",
       "  </thead>\n",
       "  <tbody>\n",
       "    <tr>\n",
       "      <th>0</th>\n",
       "      <td>0.041182</td>\n",
       "    </tr>\n",
       "    <tr>\n",
       "      <th>1</th>\n",
       "      <td>0.003831</td>\n",
       "    </tr>\n",
       "    <tr>\n",
       "      <th>2</th>\n",
       "      <td>0.011349</td>\n",
       "    </tr>\n",
       "    <tr>\n",
       "      <th>3</th>\n",
       "      <td>0.000509</td>\n",
       "    </tr>\n",
       "    <tr>\n",
       "      <th>4</th>\n",
       "      <td>0.009084</td>\n",
       "    </tr>\n",
       "    <tr>\n",
       "      <th>...</th>\n",
       "      <td>...</td>\n",
       "    </tr>\n",
       "    <tr>\n",
       "      <th>495</th>\n",
       "      <td>0.000646</td>\n",
       "    </tr>\n",
       "    <tr>\n",
       "      <th>496</th>\n",
       "      <td>0.000256</td>\n",
       "    </tr>\n",
       "    <tr>\n",
       "      <th>497</th>\n",
       "      <td>0.001546</td>\n",
       "    </tr>\n",
       "    <tr>\n",
       "      <th>498</th>\n",
       "      <td>0.000321</td>\n",
       "    </tr>\n",
       "    <tr>\n",
       "      <th>499</th>\n",
       "      <td>0.001242</td>\n",
       "    </tr>\n",
       "  </tbody>\n",
       "</table>\n",
       "<p>500 rows × 1 columns</p>\n",
       "</div>"
      ],
      "text/plain": [
       "     relative_abundance\n",
       "0              0.041182\n",
       "1              0.003831\n",
       "2              0.011349\n",
       "3              0.000509\n",
       "4              0.009084\n",
       "..                  ...\n",
       "495            0.000646\n",
       "496            0.000256\n",
       "497            0.001546\n",
       "498            0.000321\n",
       "499            0.001242\n",
       "\n",
       "[500 rows x 1 columns]"
      ]
     },
     "execution_count": 1264,
     "metadata": {},
     "output_type": "execute_result"
    }
   ],
   "source": [
    "q_vec = pd.read_csv('/Users/linlin/Desktop/2023/121/q.tsv',sep='\\t',names=['relative_abundance']).astype(\"float\")\n",
    "q_vec"
   ]
  },
  {
   "cell_type": "code",
   "execution_count": 1265,
   "metadata": {},
   "outputs": [],
   "source": [
    "N2 = [1e6,1e6,1e6]\n",
    "simu_q = simulate(N2,q_vec)\n",
    "s_mat_q, norm_fac_q = DESeq_norm(simu_q.T)\n"
   ]
  },
  {
   "cell_type": "code",
   "execution_count": 1266,
   "metadata": {},
   "outputs": [
    {
     "name": "stdout",
     "output_type": "stream",
     "text": [
      "[71.51345973677954, 72.46832254772266, 71.7481397837766]\n"
     ]
    },
    {
     "data": {
      "image/png": "[encoded data removed]",
      "text/plain": [
       "<Figure size 720x360 with 2 Axes>"
      ]
     },
     "metadata": {
      "needs_background": "light"
     },
     "output_type": "display_data"
    }
   ],
   "source": [
    "plot_s_hist(s_mat_q,['0','2'],N2)\n",
    "print(norm_fac_q)"
   ]
  },
  {
   "attachments": {},
   "cell_type": "markdown",
   "metadata": {},
   "source": [
    "The distribution of s values is more right-skewed when the abundances come from the q.tsv file. The sample specific normalization factors are very similar for the three samples simulated under the q abundances, but smaller than those simulated under the p abundances, given the same sample size = 1e6. "
   ]
  },
  {
   "attachments": {},
   "cell_type": "markdown",
   "metadata": {},
   "source": [
    "# (g)"
   ]
  },
  {
   "cell_type": "code",
   "execution_count": 1267,
   "metadata": {},
   "outputs": [
    {
     "data": {
      "text/html": [
       "<div>\n",
       "<style scoped>\n",
       "    .dataframe tbody tr th:only-of-type {\n",
       "        vertical-align: middle;\n",
       "    }\n",
       "\n",
       "    .dataframe tbody tr th {\n",
       "        vertical-align: top;\n",
       "    }\n",
       "\n",
       "    .dataframe thead th {\n",
       "        text-align: right;\n",
       "    }\n",
       "</style>\n",
       "<table border=\"1\" class=\"dataframe\">\n",
       "  <thead>\n",
       "    <tr style=\"text-align: right;\">\n",
       "      <th></th>\n",
       "      <th>0</th>\n",
       "      <th>1</th>\n",
       "      <th>2</th>\n",
       "      <th>3</th>\n",
       "      <th>4</th>\n",
       "      <th>5</th>\n",
       "    </tr>\n",
       "  </thead>\n",
       "  <tbody>\n",
       "    <tr>\n",
       "      <th>0</th>\n",
       "      <td>4177</td>\n",
       "      <td>4243</td>\n",
       "      <td>4160</td>\n",
       "      <td>41272</td>\n",
       "      <td>41438</td>\n",
       "      <td>41220</td>\n",
       "    </tr>\n",
       "    <tr>\n",
       "      <th>1</th>\n",
       "      <td>382</td>\n",
       "      <td>398</td>\n",
       "      <td>364</td>\n",
       "      <td>3826</td>\n",
       "      <td>3885</td>\n",
       "      <td>3895</td>\n",
       "    </tr>\n",
       "    <tr>\n",
       "      <th>2</th>\n",
       "      <td>1194</td>\n",
       "      <td>1182</td>\n",
       "      <td>1155</td>\n",
       "      <td>11247</td>\n",
       "      <td>11403</td>\n",
       "      <td>11320</td>\n",
       "    </tr>\n",
       "    <tr>\n",
       "      <th>3</th>\n",
       "      <td>48</td>\n",
       "      <td>49</td>\n",
       "      <td>57</td>\n",
       "      <td>512</td>\n",
       "      <td>537</td>\n",
       "      <td>515</td>\n",
       "    </tr>\n",
       "    <tr>\n",
       "      <th>4</th>\n",
       "      <td>947</td>\n",
       "      <td>902</td>\n",
       "      <td>951</td>\n",
       "      <td>9101</td>\n",
       "      <td>9085</td>\n",
       "      <td>8923</td>\n",
       "    </tr>\n",
       "    <tr>\n",
       "      <th>...</th>\n",
       "      <td>...</td>\n",
       "      <td>...</td>\n",
       "      <td>...</td>\n",
       "      <td>...</td>\n",
       "      <td>...</td>\n",
       "      <td>...</td>\n",
       "    </tr>\n",
       "    <tr>\n",
       "      <th>495</th>\n",
       "      <td>1042</td>\n",
       "      <td>1031</td>\n",
       "      <td>1092</td>\n",
       "      <td>650</td>\n",
       "      <td>635</td>\n",
       "      <td>620</td>\n",
       "    </tr>\n",
       "    <tr>\n",
       "      <th>496</th>\n",
       "      <td>405</td>\n",
       "      <td>420</td>\n",
       "      <td>396</td>\n",
       "      <td>249</td>\n",
       "      <td>269</td>\n",
       "      <td>241</td>\n",
       "    </tr>\n",
       "    <tr>\n",
       "      <th>497</th>\n",
       "      <td>2588</td>\n",
       "      <td>2601</td>\n",
       "      <td>2528</td>\n",
       "      <td>1501</td>\n",
       "      <td>1584</td>\n",
       "      <td>1569</td>\n",
       "    </tr>\n",
       "    <tr>\n",
       "      <th>498</th>\n",
       "      <td>582</td>\n",
       "      <td>494</td>\n",
       "      <td>542</td>\n",
       "      <td>295</td>\n",
       "      <td>336</td>\n",
       "      <td>310</td>\n",
       "    </tr>\n",
       "    <tr>\n",
       "      <th>499</th>\n",
       "      <td>2033</td>\n",
       "      <td>1970</td>\n",
       "      <td>2071</td>\n",
       "      <td>1176</td>\n",
       "      <td>1218</td>\n",
       "      <td>1234</td>\n",
       "    </tr>\n",
       "  </tbody>\n",
       "</table>\n",
       "<p>500 rows × 6 columns</p>\n",
       "</div>"
      ],
      "text/plain": [
       "        0     1     2      3      4      5\n",
       "0    4177  4243  4160  41272  41438  41220\n",
       "1     382   398   364   3826   3885   3895\n",
       "2    1194  1182  1155  11247  11403  11320\n",
       "3      48    49    57    512    537    515\n",
       "4     947   902   951   9101   9085   8923\n",
       "..    ...   ...   ...    ...    ...    ...\n",
       "495  1042  1031  1092    650    635    620\n",
       "496   405   420   396    249    269    241\n",
       "497  2588  2601  2528   1501   1584   1569\n",
       "498   582   494   542    295    336    310\n",
       "499  2033  1970  2071   1176   1218   1234\n",
       "\n",
       "[500 rows x 6 columns]"
      ]
     },
     "execution_count": 1267,
     "metadata": {},
     "output_type": "execute_result"
    }
   ],
   "source": [
    "simu_combo = pd.concat([simu_e,simu_q],axis=1)\n",
    "simu_combo.columns = range(6)\n",
    "simu_combo"
   ]
  },
  {
   "cell_type": "code",
   "execution_count": 1280,
   "metadata": {},
   "outputs": [
    {
     "data": {
      "image/png": "[encoded data removed]",
      "text/plain": [
       "<Figure size 720x360 with 2 Axes>"
      ]
     },
     "metadata": {
      "needs_background": "light"
     },
     "output_type": "display_data"
    }
   ],
   "source": [
    "N = [1e6,1e6,1e6,1e6,1e6,1e6]\n",
    "s_mat_combo, norm_fac_combo = DESeq_norm(simu_combo.T)\n",
    "plot_s_hist(s_mat_combo,[0,5],N)"
   ]
  },
  {
   "cell_type": "code",
   "execution_count": 1274,
   "metadata": {},
   "outputs": [
    {
     "data": {
      "text/plain": [
       "Text(0, 0.5, 'sample 5 (q_vec)')"
      ]
     },
     "execution_count": 1274,
     "metadata": {},
     "output_type": "execute_result"
    },
    {
     "data": {
      "image/png": "[encoded data removed]",
      "text/plain": [
       "<Figure size 432x288 with 1 Axes>"
      ]
     },
     "metadata": {
      "needs_background": "light"
     },
     "output_type": "display_data"
    }
   ],
   "source": [
    "s_scatt(s_mat_combo,0,5,N)\n",
    "ax = plt.gca()\n",
    "ax.set_xlabel('sample 0 (p_vec)')\n",
    "ax.set_ylabel('sample 5 (q_vec)')\n"
   ]
  },
  {
   "cell_type": "code",
   "execution_count": 1281,
   "metadata": {},
   "outputs": [
    {
     "name": "stdout",
     "output_type": "stream",
     "text": [
      "normalization factors from p vec: [83.70973369020427, 84.32447114699472, 83.39977810108644]\n",
      "normalization factors from q vec: [71.51345973677954, 72.46832254772266, 71.7481397837766]\n",
      "normalization factors from combining p and q vec: [305.16844921537984, 307.291660032933, 304.80696672799706, 234.7027982327357, 237.68834419672658, 236.2897844417716]\n"
     ]
    }
   ],
   "source": [
    "print(\"normalization factors from p vec: \"+str(norm_fac_e))\n",
    "print(\"normalization factors from q vec: \"+str(norm_fac_q))\n",
    "print(\"normalization factors from combining p and q vec: \"+str(norm_fac_combo))"
   ]
  },
  {
   "attachments": {},
   "cell_type": "markdown",
   "metadata": {},
   "source": [
    "The sample specific normalization factors increase drastically for the combined data, which contains samples generated under different gene abundances distributions"
   ]
  },
  {
   "cell_type": "code",
   "execution_count": 1284,
   "metadata": {},
   "outputs": [
    {
     "data": {
      "text/plain": [
       "Text(0.5, 0.98, 'number of genes with certain abundances in the two samples')"
      ]
     },
     "execution_count": 1284,
     "metadata": {},
     "output_type": "execute_result"
    },
    {
     "data": {
      "image/png": "[encoded data removed]",
      "text/plain": [
       "<Figure size 432x288 with 1 Axes>"
      ]
     },
     "metadata": {
      "needs_background": "light"
     },
     "output_type": "display_data"
    }
   ],
   "source": [
    "vec_c = pd.concat([p_vec,q_vec],axis=1)\n",
    "vec_c.columns=['p','q']\n",
    "v = vec_c.melt(id_vars = None,value_name='abundances',var_name = 'source')\n",
    "sns.histplot(data=v,x='abundances',hue='source')\n",
    "plt.suptitle(\"number of genes with certain abundances in the two samples\")"
   ]
  },
  {
   "attachments": {},
   "cell_type": "markdown",
   "metadata": {},
   "source": [
    "From the histograms that visualize the distributions of gene abundances, it's evident that the q distribution has significant outliers widh abundances above 0.03 in comparison to the p distribution, but is overall more right-skewed, so the raw counts of more genes are smaller for the q samples except for one or two that have significantly higher counts. \n",
    "\n",
    "Translating to scenarios of finding differentially expressed genes among different samples, the 'outliers' in the q sample are genes that are very differentially expressed between q and p. However, these few genes take up quite a large part of the total compositio and subsequently squeeze the counts of all other genes. The DESeq normalization would take this into account. \n",
    "\n",
    "But because the DESeq style normalization uses the median of the ratios of observed counts to calculate size factors, it's pretty robust to outliers and would give a larger sample-specific normalization factor to the p sample, who has a majority of genes with slightly higher abundances than their counterparts in q sample. As the sample size gets larger, a slight difference in abundance would become a large difference in raw counts, which translates to a large difference in the sample-specific normalization factor. "
   ]
  },
  {
   "cell_type": "code",
   "execution_count": 1285,
   "metadata": {},
   "outputs": [
    {
     "data": {
      "image/png": "[encoded data removed]",
      "text/plain": [
       "<Figure size 432x288 with 1 Axes>"
      ]
     },
     "metadata": {
      "needs_background": "light"
     },
     "output_type": "display_data"
    }
   ],
   "source": [
    "plot_simulate(simu_combo,0,5,N)"
   ]
  },
  {
   "cell_type": "code",
   "execution_count": 1286,
   "metadata": {},
   "outputs": [
    {
     "data": {
      "text/plain": [
       "Text(0, 0.5, 'sample from q')"
      ]
     },
     "execution_count": 1286,
     "metadata": {},
     "output_type": "execute_result"
    },
    {
     "data": {
      "image/png": "[encoded data removed]",
      "text/plain": [
       "<Figure size 432x288 with 1 Axes>"
      ]
     },
     "metadata": {
      "needs_background": "light"
     },
     "output_type": "display_data"
    }
   ],
   "source": [
    "combo_norm = s_norm(simu_combo.T, norm_fac_combo)\n",
    "plot_simulate(combo_norm.T,0,5,N)\n",
    "plt.suptitle(\"Normalized counts of sample from q v.s. sample from p\")\n",
    "plt.title(\"\")\n",
    "plt.xlabel(\"sample from p\")\n",
    "plt.ylabel(\"sample from q\")"
   ]
  },
  {
   "attachments": {},
   "cell_type": "markdown",
   "metadata": {},
   "source": [
    "# Coloring differently expressed genes  "
   ]
  },
  {
   "cell_type": "code",
   "execution_count": 1298,
   "metadata": {},
   "outputs": [],
   "source": [
    "colors = ['orange' for i in range(int(round(500 * 0.4)))] + ['blue' for i in range(int(500 - round(500 * 0.4)))]\n"
   ]
  },
  {
   "cell_type": "code",
   "execution_count": 1323,
   "metadata": {},
   "outputs": [],
   "source": [
    "\n",
    "def colr(mat, x_idx,y_idx,N,des,ax):\n",
    "    ax.scatter(y = mat.iloc[y_idx,:],x = mat.iloc[x_idx,:], s=2,color=colors)\n",
    "    ax.set_title(\"differently expressed genes between q and p \"+des)\n",
    "    \n",
    "    yaxmin,yaxmax = ax.get_ylim()\n",
    "    xaxmin,xaxmax = ax.get_xlim()\n",
    "    axmin = min(xaxmin,yaxmin)\n",
    "    axmax = max(xaxmax,yaxmax)\n",
    "    ax.set_ylim(axmin,axmax)\n",
    "    ax.set_xlim(axmin,axmax)\n",
    "    ax.set_aspect('equal')\n",
    "    ax.set_xlabel('sample 0 (p_vec)')\n",
    "    ax.set_ylabel('sample 5 (q_vec)')\n",
    "    ax.axline([0, 0], [1, 1])\n",
    "\n",
    "    #plt.gcf().set_size_inches(5,5)\n",
    "    "
   ]
  },
  {
   "cell_type": "code",
   "execution_count": 1326,
   "metadata": {},
   "outputs": [
    {
     "data": {
      "image/png": "[encoded data removed]",
      "text/plain": [
       "<Figure size 432x288 with 2 Axes>"
      ]
     },
     "metadata": {
      "needs_background": "light"
     },
     "output_type": "display_data"
    }
   ],
   "source": [
    "_,ax=plt.subplots(2)\n",
    "colr(combo_norm,0,5,N,'normalized.',ax[0])\n",
    "\n",
    "colr(simu_combo.T,0,5,N,'raw',ax[1])\n",
    "plt.tight_layout()\n"
   ]
  },
  {
   "attachments": {},
   "cell_type": "markdown",
   "metadata": {},
   "source": [
    "The differentially expressed genes are those that fall off the y=x line and in the normalized version the non-differentially expressed genes adhere to the y=x line more due to normalization. "
   ]
  },
  {
   "cell_type": "markdown",
   "metadata": {},
   "source": []
  }
 ],
 "metadata": {
  "kernelspec": {
   "display_name": "base",
   "language": "python",
   "name": "python3"
  },
  "language_info": {
   "codemirror_mode": {
    "name": "ipython",
    "version": 3
   },
   "file_extension": ".py",
   "mimetype": "text/x-python",
   "name": "python",
   "nbconvert_exporter": "python",
   "pygments_lexer": "ipython3",
   "version": "3.8.8"
  },
  "orig_nbformat": 4,
  "vscode": {
   "interpreter": {
    "hash": "dea020618c6d75d6a2b362878fa8ffdb3663cdd93010adabd1eb95477499d165"
   }
  }
 },
 "nbformat": 4,
 "nbformat_minor": 2
}
