{
 "cells": [
  {
   "cell_type": "markdown",
   "metadata": {},
   "source": [
    "# Problem 1"
   ]
  },
  {
   "cell_type": "markdown",
   "metadata": {},
   "source": [
    "## (a) \n",
    "\n",
    "- Possible alleles at the position {G, A, C}  \n",
    "- Possible genotypes: {GG, GA, CC, CG, CA, AA}"
   ]
  },
  {
   "cell_type": "markdown",
   "metadata": {},
   "source": [
    "## (b)  \n",
    "- If a T is observed, there is an error in reading the original base, which could only be C, A, or G.  \n",
    "- To infer abou the true genome from observation/read of the sequensor, or calculate the posterior probability (probability of the true genotype being this based on the reads), we need a variable $E_{i}$ that represents the probability of the read being an error at the position of interest, i.  \n",
    "- If the read is T at position i, we will know that $E_{i}$ = 1, because the read is definitely a mistake \n",
    "- Since now T could be observed, we need to additionally specify the probabilities of mistakenly observing the true allele C/G/A as T. "
   ]
  },
  {
   "cell_type": "markdown",
   "metadata": {},
   "source": [
    "## (c)  - (e)\n",
    "### Assumptions and Notations:\n",
    "- Let E be a random variable that denotes the error rate of read. P($E_{i}$=1) denotes the error rate at position i, i.e., probability of observing the true base as some other bases. P($E_{i}$=0) is the probability of observing the real base of the position.  \n",
    "\n",
    "- Let S be a random variable that denotes the true allele that generates the read. Independent among different positions. P($S_{i}$=x) denotes the true allele at position i is x (it is the chromosome with the allele x that gets sampled). \n",
    "\n",
    "- Let O be a random, variable that denotes the observed reat. Independent among different positions. P($O_{i}$=x) denotes the allele x is observed. \n",
    "\n",
    "- Let G denotes the true genotype. P(G=AA) denotes the prior probability of the genotype AA in the population.  \n",
    "\n",
    "- The observation O depends on E = error rate, and S = which allele it is reading.\n",
    "The error rate E depends on which allele S is being read from.\n",
    "\n",
    "- Which allele gets read depends on the true genetype G.  \n",
    "\n",
    "### Observing read i for homozygous genotypes: (CC/GG/AA)\n",
    "\n",
    "**with true genotype being CC as an example:**\n",
    "\n",
    "- Observe A:\n",
    "    - P($O_{i}$=A | G = CC)  \n",
    "    = P($O_{i}$=A | G = CC, $E_{i}$ = 1,$S_{i}$ = C) P($E_{i}$ = 1 | $S_{i}$ = C)P($S{i}$ = C)  \n",
    "    = P($O_{i}$=A | G = CC, $E_{i}$ = 1,$S_{i}$ = C) P($E_{i}$ = 1 | $S_{i}$ = C)\n",
    "    - Because the true genotype is CC, the last probability (P($S{i}$ = ...))would always be 1. \n",
    "    - P($O_{i}$=A | G = CC, $E_{i}$ = 1,$S_{i}$ = C) is the error transition rate of miss reading the true genotype C as A. \n",
    "    - And P($O_{i}$=T | G = CC, $E_{i}$ = 1,$S_{i}$ = C) + P($O_{i}$=G | G = CC, $E_{i}$ = 1,$S_{i}$ = C) + P($O_{i}$=A | G = CC, $E_{i}$ = 1,$S_{i}$ = C) = P($E_{i}$ = 1,$S_{i}$ = C)\n",
    "- Similarly, observe G:\n",
    "    - P($O_{i}$=G | G = CC)  \n",
    "    = P($O_{i}$=G | G = CC, $E_{i}$ = 1,$S_{i}$ = C) P($E_{i}$ = 1 | $S_{i}$ = C)\n",
    "- Observe T:\n",
    "    - P($O_{i}$=T | G = CC)  \n",
    "    = P($O_{i}$=T | G = CC, $E_{i}$ = 1,$S_{i}$ = C) P($E_{i}$ = 1 | $S_{i}$ = C)\n",
    "- Observe C:\n",
    "    - In this case, it is the correct read. No error. \n",
    "    - P($O_{i}$=C | G = CC)   \n",
    "    = P($O_{i}$=C | G = CC, $E_{i}$ = 0,$S_{i}$ = C) P($E_{i}$ = 0 | $S_{i}$ = C)   \n",
    "    = P($E_{i}$ = 0 | $S_{i}$ = C)\n",
    "\n",
    "Similar for other homozygous. \n",
    "\n",
    "### Observing read i for heterozygous genotypes: (GA/GC/CA)\n",
    "\n",
    "**with true genotype being GA as an example:**\n",
    "- Observe T:\n",
    "- P($O_{i}$= T | G = GA)  \n",
    "    = P($O_{i}$= T | G = GA, $E_{i}$ = 1, $S_{i}$ = G) P($E_{i}$ = 1 | $S_{i}$ = G)P($S{i}$ = G)   \n",
    "    +P($O_{i}$= T | G = GA, $E_{i}$ = 1, $S_{i}$ = A) P($E_{i}$ = 1 | $S_{i}$ = A)P($S{i}$ = A)  \n",
    "    - The error is not uniquely T for true allele G/A, so the first probability can't be collapsed to 1. \n",
    "- Similarly for observing C: \n",
    "- P($O_{i}$= C | G = GA)  \n",
    "    = P($O_{i}$= C | G = GA, $E_{i}$ = 1, $S_{i}$ = A) P($E_{i}$ = 1 | $S_{i}$ = A)P($S{i}$ = A)   \n",
    "    +P($O_{i}$= C | G = GA, $E_{i}$ = 1, $S_{i}$ = G) P($E_{i}$ = 1 | $S_{i}$ = G)P($S{i}$ = G)  \n",
    "- Observe A: \n",
    "- P($O_{i}$= A | G = GA)  \n",
    "    = P($O_{i}$= A | G = GA, $E_{i}$ = 0, $S_{i}$ = A) P($E_{i}$ = 0 | $S_{i}$ = A)P($S{i}$ = AA)   \n",
    "    +P($O_{i}$= A | G = GA, $E_{i}$ = 1, $S_{i}$ = G) P($E_{i}$ = 1 | $S_{i}$ = G)P($S{i}$ = G)  \n",
    "    = P($E_{i}$ = 0 | $S_{i}$ = A)P($S{i}$ = A)   \n",
    "    +P($O_{i}$= A | G = GA, $E_{i}$ = 1, $S_{i}$ = G) P($E_{i}$ = 1 | $S_{i}$ = G)P($S{i}$ = G)  \n",
    "- P($O_{i}$= A | G = GA, $E_{i}$ = 0, $S_{i}$ = A) is 1 because the correct read on true allele C could only be C.  \n",
    "- Observe G: \n",
    "- P($O_{i}$= G | G = GA)  \n",
    "    = P($O_{i}$= G | G = GA, $E_{i}$ = 0, $S_{i}$ = G) P($E_{i}$ = 0 | $S_{i}$ = G)P($S{i}$ = G)   \n",
    "    +P($O_{i}$= G | G = GA, $E_{i}$ = A, $S_{i}$ = GA) P($E_{i}$ = 1 | $S_{i}$ = A)P($S{i}$ = A)  \n",
    "    = P($E_{i}$ = 0 | $S_{i}$ = G)P($S{i}$ = G)   \n",
    "    +P($O_{i}$= G | G = GA, $E_{i}$ = A, $S_{i}$ = GA) P($E_{i}$ = 1 | $S_{i}$ = A)P($S{i}$ = A)  \n",
    "\n",
    "Similar for the heterozygous genotype  \n",
    "And: P($O_{i}$ | G = GA) + P($O_{i}$ | G = GC) + P($O_{i}$ | G = AC) + P($O_{i}$ | G = GG) + P($O_{i}$ | G = CC) + P($O_{i}$ | G = AA) = 1   \n"
   ]
  },
  {
   "cell_type": "markdown",
   "metadata": {},
   "source": [
    "# Problem 2"
   ]
  },
  {
   "cell_type": "markdown",
   "metadata": {},
   "source": [
    "## (a)  \n",
    "- Notations: $E_{i}$ is an individual read. $E_{i}$ = 0 indicates no error, read matching true allele, $E_{i}$ = 1 marks the opposite. G is true genotype. \n",
    "i:A marks A is observed at A. \n",
    "\n",
    "- The likelihood of the true genotype being homozygous, e.g., AA, given n reads in the biallelic case is:  \n",
    "P($E_{1}$,..., $E_{n}$ | G=AA) \n",
    "= $\\prod_{i=1,i:A}^n$ P($E_{i}$ = 0 | $S_{i}$ = A) $\\prod_{i=1, i:B}^n$ P($E_{i}$ = 1 | $S_{i}$ = A) \n",
    "which is not affected by the given equality because it does not apply to the case where only one of the two alleles exist.  \n",
    "\n",
    "- In the heterozygous case, the likelihood would be reduced to something akin to:  \n",
    "P($E_{1}$,..., $E_{n}$ | G=AB)    \n",
    "= [$\\prod_{i=1,i:A}^n$ (P($E_{i}$ = 1 | $S_{i}$ = B) P($S_{i}$ = B) + P($E_{i}$ = 0 | $S_{i}$ = A) P($S_{i}$ = A)]   \n",
    "*[$\\prod_{i=1,i:B}^n$ (P($E_{i}$ = 1 | $S_{i}$ = A) P($S_{i}$ = A) + P($E_{i}$ = 0 | $S_{i}$ = B) P($S_{i}$ = B)]   \n",
    "= [$\\prod_{i=1,i:A}^n$ (P($E_{i}$ = 1 | $S_{i}$ = B) * 0.5+ P($E_{i}$ = 0 | $S_{i}$ = A) * 0.5)]   \n",
    "*[$\\prod_{i=1,i:B}^n$ (P($E_{i}$ = 1 | $S_{i}$ = A) * 0.5 + P($E_{i}$ = 0 | $S_{i}$ = B) * 0.5)]   \n",
    "\n",
    "- The likelihood increases because P($S_{i}$ = B) = 0.5 = 1- P($E_{i}$ = 1 | $S_{i}$ = A) maximizes the likelihood. "
   ]
  },
  {
   "cell_type": "markdown",
   "metadata": {},
   "source": [
    "## (b)  \n",
    "Writing code to calculate propsperior probabilities  "
   ]
  },
  {
   "cell_type": "code",
   "execution_count": 1,
   "metadata": {},
   "outputs": [],
   "source": [
    "import pandas as pd\n",
    "import numpy as np"
   ]
  },
  {
   "cell_type": "code",
   "execution_count": 3,
   "metadata": {},
   "outputs": [
    {
     "data": {
      "text/html": [
       "<div>\n",
       "<style scoped>\n",
       "    .dataframe tbody tr th:only-of-type {\n",
       "        vertical-align: middle;\n",
       "    }\n",
       "\n",
       "    .dataframe tbody tr th {\n",
       "        vertical-align: top;\n",
       "    }\n",
       "\n",
       "    .dataframe thead th {\n",
       "        text-align: right;\n",
       "    }\n",
       "</style>\n",
       "<table border=\"1\" class=\"dataframe\">\n",
       "  <thead>\n",
       "    <tr style=\"text-align: right;\">\n",
       "      <th></th>\n",
       "      <th>observations</th>\n",
       "      <th>probability_of_error</th>\n",
       "      <th>error_truth</th>\n",
       "    </tr>\n",
       "  </thead>\n",
       "  <tbody>\n",
       "    <tr>\n",
       "      <th>0</th>\n",
       "      <td>A</td>\n",
       "      <td>0.125650</td>\n",
       "      <td>False</td>\n",
       "    </tr>\n",
       "    <tr>\n",
       "      <th>1</th>\n",
       "      <td>T</td>\n",
       "      <td>0.092379</td>\n",
       "      <td>False</td>\n",
       "    </tr>\n",
       "    <tr>\n",
       "      <th>2</th>\n",
       "      <td>A</td>\n",
       "      <td>0.196982</td>\n",
       "      <td>False</td>\n",
       "    </tr>\n",
       "    <tr>\n",
       "      <th>3</th>\n",
       "      <td>T</td>\n",
       "      <td>0.063769</td>\n",
       "      <td>False</td>\n",
       "    </tr>\n",
       "    <tr>\n",
       "      <th>4</th>\n",
       "      <td>T</td>\n",
       "      <td>0.163563</td>\n",
       "      <td>True</td>\n",
       "    </tr>\n",
       "  </tbody>\n",
       "</table>\n",
       "</div>"
      ],
      "text/plain": [
       "  observations  probability_of_error  error_truth\n",
       "0            A              0.125650        False\n",
       "1            T              0.092379        False\n",
       "2            A              0.196982        False\n",
       "3            T              0.063769        False\n",
       "4            T              0.163563         True"
      ]
     },
     "execution_count": 3,
     "metadata": {},
     "output_type": "execute_result"
    }
   ],
   "source": [
    "reads = pd.read_csv('/Users/linlin/Downloads/reads.tsv',sep='\\t')\n",
    "reads.head()"
   ]
  },
  {
   "cell_type": "code",
   "execution_count": 125,
   "metadata": {},
   "outputs": [],
   "source": [
    "def posteriorp(genea, geneb, data,p_sa,p_sb,p_aa,p_bb,p_ab):\n",
    "    \"\"\"\n",
    "    for a given genotype, calculate the posterior probability of the true genotype based on simulation\n",
    "    INPUT:\n",
    "        genea, geneb: each one is a character, alleles that make up the given genotype\n",
    "        data: dataframe, simulated data, contain error rates, observations (truth not used)\n",
    "        p_sa, p_sb: probability of the read being generated from a true allele that is gene a/gene b\n",
    "        p_aa, p_bb, p_ab: prior probabilitie of the true genotypes in the population\n",
    "    OUTPUT:\n",
    "        double, posterior probability of the given genotype based on the \n",
    "    \"\"\"\n",
    "    dfa = data[data.observations == \"A\"] #positions that read A\n",
    "    dfb = data[data.observations == \"T\"] #positions that read T\n",
    "    logpe_ab = sum([np.log((1-err) * p_sa + err * p_sb) for err in list(dfa.probability_of_error)] \\\n",
    "             + [np.log((1-err) * p_sb + err * p_sa) for err in list(dfb.probability_of_error)])\n",
    "    logpe_aa = sum([np.log(err) for err in list(dfb.probability_of_error)] \\\n",
    "             + [np.log(1-err) for err in list(dfa.probability_of_error)])\n",
    "    logpe_bb = sum([np.log(err) for err in list(dfa.probability_of_error)] \\\n",
    "             + [np.log(1-err) for err in list(dfb.probability_of_error)])\n",
    "    props = {\"AA\":logpe_aa,\"AT\":logpe_ab,\"TT\":logpe_bb}\n",
    "    prior = {\"AA\":p_aa,\"AT\":p_ab,\"TT\":p_bb}\n",
    "    pread_true = np.exp(props[genea+geneb]) \n",
    "    return pread_true * prior[genea+geneb] / (np.exp(logpe_aa) * p_aa + np.exp(logpe_ab) * p_ab + np.exp(logpe_bb) * p_bb)\n",
    "  "
   ]
  },
  {
   "cell_type": "code",
   "execution_count": 126,
   "metadata": {},
   "outputs": [
    {
     "name": "stdout",
     "output_type": "stream",
     "text": [
      "A  A : 0.0\n",
      "A  T : 1.0\n",
      "T  T : 0.0\n"
     ]
    }
   ],
   "source": [
    "p_sa = 0.5 \n",
    "p_sb = p_sa\n",
    "# prior probability of genotype in the population\n",
    "p_aa = 0.95**2\n",
    "p_bb = 0.05**2\n",
    "p_ab = 1. - p_aa - p_bb\n",
    "print('A ','A :',posteriorp('A', 'A', reads, p_sa,p_sb,p_aa,p_bb,p_ab))\n",
    "print('A ','T :',posteriorp('A', 'T', reads, p_sa,p_sb,p_aa,p_bb,p_ab))\n",
    "print('T ','T :',posteriorp('T', 'T', reads, p_sa,p_sb,p_aa,p_bb,p_ab))"
   ]
  },
  {
   "cell_type": "markdown",
   "metadata": {},
   "source": [
    "## (c)  \n",
    "Randomly sample 5 observations with replacement and re-estimate the posterior prob-\n",
    "ability of each genotype. What are the results?  "
   ]
  },
  {
   "cell_type": "code",
   "execution_count": 137,
   "metadata": {},
   "outputs": [
    {
     "name": "stdout",
     "output_type": "stream",
     "text": [
      "A  A : 0.7459674033281499\n",
      "A  T : 0.25375765168715503\n",
      "T  T : 0.0002749449846950136\n"
     ]
    }
   ],
   "source": [
    "index = random.choices(range(1,len(reads)),k=5)\n",
    "\n",
    "print('A ','A :',posteriorp('A', 'A', reads.iloc[index], p_sa,p_sb,p_aa,p_bb,p_ab))\n",
    "print('A ','T :',posteriorp('A', 'T', reads.iloc[index], p_sa,p_sb,p_aa,p_bb,p_ab))\n",
    "print('T ','T :',posteriorp('T', 'T', reads.iloc[index], p_sa,p_sb,p_aa,p_bb,p_ab))"
   ]
  },
  {
   "cell_type": "markdown",
   "metadata": {},
   "source": [
    "## (d) - (e)  \n",
    "Varying total number of reads for 1k times of simulations"
   ]
  },
  {
   "cell_type": "code",
   "execution_count": 161,
   "metadata": {},
   "outputs": [],
   "source": [
    "import random\n",
    "import seaborn as sns\n",
    "from matplotlib import pyplot as plt\n",
    "random.seed(42)\n",
    "\n"
   ]
  },
  {
   "cell_type": "code",
   "execution_count": 279,
   "metadata": {},
   "outputs": [],
   "source": [
    "def simu(n_sample = 5,bnum = 30,n_times = 1000):\n",
    "    \"\"\"\n",
    "    plotting simulation results: distribution of prosperior props from each simulation\n",
    "    INPUT:\n",
    "        bnum: number of bins of histogram\n",
    "        n_times: total times of simulations\n",
    "        n_sample: andomly sample n_sample observations with replacement\n",
    "    OUTPUT:\n",
    "        plot three histograms, each correspond to the dist of prosp prob of one of the three genotypes\n",
    "        return the data.frames containing simulated results for the three genotypes\n",
    "    \"\"\"\n",
    "    p_sa = 0.5 \n",
    "    p_sb = p_sa\n",
    "    # prior probability of genotype in the population\n",
    "    p_aa = 0.95**2\n",
    "    p_bb = 0.05**2\n",
    "    p_ab = 1. - p_aa - p_bb\n",
    "    #print('A ','A :',posteriorp('A', 'A', reads.iloc[index], p_sa,p_sb,p_aa,p_bb,p_ab))\n",
    "    #print('A ','T :',posteriorp('A', 'T', reads.iloc[index], p_sa,p_sb,p_aa,p_bb,p_ab))\n",
    "    #print('T ','T :',posteriorp('T', 'T', reads.iloc[index], p_sa,p_sb,p_aa,p_bb,p_ab))\n",
    "    #simulate\n",
    "    aa = []\n",
    "    at = []\n",
    "    tt = []\n",
    "    for i in range(n_times):\n",
    "        index = random.choices(range(1,len(reads)),k=n_sample)\n",
    "        aa.append(posteriorp('A', 'A', reads.iloc[index], p_sa,p_sb,p_aa,p_bb,p_ab))\n",
    "        at.append(posteriorp('A', 'T', reads.iloc[index], p_sa,p_sb,p_aa,p_bb,p_ab))\n",
    "        tt.append(posteriorp('T', 'T', reads.iloc[index], p_sa,p_sb,p_aa,p_bb,p_ab))\n",
    "    #plot\n",
    "    df = pd.DataFrame({'AA':aa,'AT':at,'TT':tt})\n",
    "    plt.rcParams['axes.grid'] = True\n",
    "    fig, ax = plt.subplots(1,3,sharey=True,sharex=True)\n",
    "    \n",
    "    sns.histplot(data = df,x='AA',bins=bnum,ax = ax[0])\n",
    "    sns.histplot(data = df,x='AT',bins=bnum,ax = ax[1])\n",
    "    sns.histplot(data = df,x='TT',bins=bnum,ax = ax[2])\n",
    "    \n",
    "    fig.suptitle('Dist. of the posterior prob. of diff. genotypes in 1k simulations, sample num = '+str(n_sample))\n",
    "    \n",
    "    plt.show()\n",
    "\n",
    "    return df\n",
    "\n",
    "\n"
   ]
  },
  {
   "cell_type": "markdown",
   "metadata": {},
   "source": []
  },
  {
   "cell_type": "code",
   "execution_count": 282,
   "metadata": {},
   "outputs": [
    {
     "data": {
      "image/png": "[encoded data removed]",
      "text/plain": [
       "<Figure size 432x288 with 3 Axes>"
      ]
     },
     "metadata": {
      "needs_background": "light"
     },
     "output_type": "display_data"
    }
   ],
   "source": [
    "df5 = simu(n_sample = 5, bnum = 30, n_times = 1000)"
   ]
  },
  {
   "cell_type": "code",
   "execution_count": 283,
   "metadata": {},
   "outputs": [
    {
     "data": {
      "image/png": "[encoded data removed]",
      "text/plain": [
       "<Figure size 432x288 with 3 Axes>"
      ]
     },
     "metadata": {
      "needs_background": "light"
     },
     "output_type": "display_data"
    }
   ],
   "source": [
    "df50 = simu(n_sample = 50,bnum = 50, n_times = 1000)"
   ]
  },
  {
   "cell_type": "markdown",
   "metadata": {},
   "source": [
    "## (f) \n",
    "compare the two simulations with different number of sampled reads: 5 v.s. 50  "
   ]
  },
  {
   "cell_type": "code",
   "execution_count": 148,
   "metadata": {},
   "outputs": [
    {
     "data": {
      "text/html": [
       "<div>\n",
       "<style scoped>\n",
       "    .dataframe tbody tr th:only-of-type {\n",
       "        vertical-align: middle;\n",
       "    }\n",
       "\n",
       "    .dataframe tbody tr th {\n",
       "        vertical-align: top;\n",
       "    }\n",
       "\n",
       "    .dataframe thead th {\n",
       "        text-align: right;\n",
       "    }\n",
       "</style>\n",
       "<table border=\"1\" class=\"dataframe\">\n",
       "  <thead>\n",
       "    <tr style=\"text-align: right;\">\n",
       "      <th></th>\n",
       "      <th>AA</th>\n",
       "      <th>AT</th>\n",
       "      <th>TT</th>\n",
       "    </tr>\n",
       "  </thead>\n",
       "  <tbody>\n",
       "    <tr>\n",
       "      <th>count</th>\n",
       "      <td>1000.000000</td>\n",
       "      <td>1000.000000</td>\n",
       "      <td>1.000000e+03</td>\n",
       "    </tr>\n",
       "    <tr>\n",
       "      <th>mean</th>\n",
       "      <td>0.410830</td>\n",
       "      <td>0.569158</td>\n",
       "      <td>2.001254e-02</td>\n",
       "    </tr>\n",
       "    <tr>\n",
       "      <th>std</th>\n",
       "      <td>0.372872</td>\n",
       "      <td>0.356481</td>\n",
       "      <td>6.235312e-02</td>\n",
       "    </tr>\n",
       "    <tr>\n",
       "      <th>min</th>\n",
       "      <td>0.000004</td>\n",
       "      <td>0.004114</td>\n",
       "      <td>1.234317e-10</td>\n",
       "    </tr>\n",
       "    <tr>\n",
       "      <th>25%</th>\n",
       "      <td>0.039344</td>\n",
       "      <td>0.202612</td>\n",
       "      <td>1.868071e-05</td>\n",
       "    </tr>\n",
       "    <tr>\n",
       "      <th>50%</th>\n",
       "      <td>0.302026</td>\n",
       "      <td>0.665705</td>\n",
       "      <td>4.727693e-04</td>\n",
       "    </tr>\n",
       "    <tr>\n",
       "      <th>75%</th>\n",
       "      <td>0.797293</td>\n",
       "      <td>0.918221</td>\n",
       "      <td>6.793530e-03</td>\n",
       "    </tr>\n",
       "    <tr>\n",
       "      <th>max</th>\n",
       "      <td>0.995886</td>\n",
       "      <td>0.998504</td>\n",
       "      <td>4.054864e-01</td>\n",
       "    </tr>\n",
       "  </tbody>\n",
       "</table>\n",
       "</div>"
      ],
      "text/plain": [
       "                AA           AT            TT\n",
       "count  1000.000000  1000.000000  1.000000e+03\n",
       "mean      0.410830     0.569158  2.001254e-02\n",
       "std       0.372872     0.356481  6.235312e-02\n",
       "min       0.000004     0.004114  1.234317e-10\n",
       "25%       0.039344     0.202612  1.868071e-05\n",
       "50%       0.302026     0.665705  4.727693e-04\n",
       "75%       0.797293     0.918221  6.793530e-03\n",
       "max       0.995886     0.998504  4.054864e-01"
      ]
     },
     "execution_count": 148,
     "metadata": {},
     "output_type": "execute_result"
    }
   ],
   "source": [
    "df5.describe()"
   ]
  },
  {
   "cell_type": "code",
   "execution_count": 149,
   "metadata": {},
   "outputs": [
    {
     "data": {
      "text/html": [
       "<div>\n",
       "<style scoped>\n",
       "    .dataframe tbody tr th:only-of-type {\n",
       "        vertical-align: middle;\n",
       "    }\n",
       "\n",
       "    .dataframe tbody tr th {\n",
       "        vertical-align: top;\n",
       "    }\n",
       "\n",
       "    .dataframe thead th {\n",
       "        text-align: right;\n",
       "    }\n",
       "</style>\n",
       "<table border=\"1\" class=\"dataframe\">\n",
       "  <thead>\n",
       "    <tr style=\"text-align: right;\">\n",
       "      <th></th>\n",
       "      <th>AA</th>\n",
       "      <th>AT</th>\n",
       "      <th>TT</th>\n",
       "    </tr>\n",
       "  </thead>\n",
       "  <tbody>\n",
       "    <tr>\n",
       "      <th>count</th>\n",
       "      <td>1.000000e+03</td>\n",
       "      <td>1000.000000</td>\n",
       "      <td>1.000000e+03</td>\n",
       "    </tr>\n",
       "    <tr>\n",
       "      <th>mean</th>\n",
       "      <td>1.608967e-05</td>\n",
       "      <td>0.999983</td>\n",
       "      <td>1.162965e-06</td>\n",
       "    </tr>\n",
       "    <tr>\n",
       "      <th>std</th>\n",
       "      <td>3.733019e-04</td>\n",
       "      <td>0.000374</td>\n",
       "      <td>2.101704e-05</td>\n",
       "    </tr>\n",
       "    <tr>\n",
       "      <th>min</th>\n",
       "      <td>1.589769e-30</td>\n",
       "      <td>0.988554</td>\n",
       "      <td>6.381417e-30</td>\n",
       "    </tr>\n",
       "    <tr>\n",
       "      <th>25%</th>\n",
       "      <td>4.171905e-18</td>\n",
       "      <td>1.000000</td>\n",
       "      <td>1.885724e-19</td>\n",
       "    </tr>\n",
       "    <tr>\n",
       "      <th>50%</th>\n",
       "      <td>7.720060e-15</td>\n",
       "      <td>1.000000</td>\n",
       "      <td>2.637805e-16</td>\n",
       "    </tr>\n",
       "    <tr>\n",
       "      <th>75%</th>\n",
       "      <td>5.016444e-12</td>\n",
       "      <td>1.000000</td>\n",
       "      <td>7.551357e-14</td>\n",
       "    </tr>\n",
       "    <tr>\n",
       "      <th>max</th>\n",
       "      <td>1.144616e-02</td>\n",
       "      <td>1.000000</td>\n",
       "      <td>4.314797e-04</td>\n",
       "    </tr>\n",
       "  </tbody>\n",
       "</table>\n",
       "</div>"
      ],
      "text/plain": [
       "                 AA           AT            TT\n",
       "count  1.000000e+03  1000.000000  1.000000e+03\n",
       "mean   1.608967e-05     0.999983  1.162965e-06\n",
       "std    3.733019e-04     0.000374  2.101704e-05\n",
       "min    1.589769e-30     0.988554  6.381417e-30\n",
       "25%    4.171905e-18     1.000000  1.885724e-19\n",
       "50%    7.720060e-15     1.000000  2.637805e-16\n",
       "75%    5.016444e-12     1.000000  7.551357e-14\n",
       "max    1.144616e-02     1.000000  4.314797e-04"
      ]
     },
     "execution_count": 149,
     "metadata": {},
     "output_type": "execute_result"
    }
   ],
   "source": [
    "df50.describe()"
   ]
  },
  {
   "cell_type": "markdown",
   "metadata": {},
   "source": [
    "- As the size of the samples get larger, (increase from 5 to 50 for each run in the total of 1k times simulations), the mean values of the estimated posterior probabilities get closer to the values obtained from including all reads (population), 0 for homozygous and 1 for heterozygous. \n",
    "- The standard deviations decrease for all genotypes as sample sizes increase from 5 to 50. \n",
    "- Which leads to a more confident conclusion on what the true genotype would be given the reads. \n"
   ]
  },
  {
   "cell_type": "markdown",
   "metadata": {},
   "source": [
    "## (g)\n",
    " \n",
    "**Implicit assumptions:**\n",
    "- Base caller assumption: we assume the reads are independent, so the joint distribution of observing the given sequence of reads are just products of the probabilities of observing a certain read at a position.  \n",
    "- We also assume the probabilities of different alleles getting sampled is the same. P(S=A) = P(S=B)\n",
    "- Prior probabilities assumption: often unknown and hard to estimate especially when the occurence of minor alleles are rare \n",
    "- Error transition: we assume there is only one possibility for error at a position, but a base could be misread as other three bases with differnet probabilities  "
   ]
  },
  {
   "cell_type": "markdown",
   "metadata": {},
   "source": [
    "# Problem 3  \n",
    "\n",
    "\n",
    "\n",
    "\n",
    "\n"
   ]
  },
  {
   "cell_type": "markdown",
   "metadata": {},
   "source": [
    "## （a) \n",
    "\n",
    "- We first decide the true genotype of the data, G, with total length n.  \n",
    "- We then randomize which position gets read (assume equal chances) by using something like **random.choices(range(1,n), k = total number of reads)** and store the list of indices we get\n",
    "    - We create O, the observed (reads) by copying G based on the list of indices (so it starts as all correct but we will modify it in the process of generation to get the reads) \n",
    "- We traverse through O, for each i in the list of indices we get: \n",
    "    - We generate a random number between 0 and 1, <i>rand</i> \n",
    "    - Compare the random number with the threshold, which is the probability of error at that position, $E_{i}$ from errors.tsv \n",
    "    - If <i>rand</i>  < $E_{i}$\n",
    "        - We create an error by changing the $O_{i}$ to another base that differs from $G_{i}$\n",
    "        - To decide what base it would be erronesouly read as, we can use something like the **random.choices([wrong bases], weights=[transition rates to each base], k=1)** where the transition rates come from the transitions.tsv (assumed to be the same for all positions)\n",
    "    - Else\n",
    "        - We retain the original data (which would be a correct read), so $O_{i}$ = $G_{i}$\n",
    "- And we create a column to store the error rate (maybe also transition rates) at each position to have something like the tsv from Q2. "
   ]
  },
  {
   "cell_type": "markdown",
   "metadata": {},
   "source": [
    "## （b) \n",
    "\n",
    "- This base would obviously be an error, so $E_{i}$ = 1 at this position. \n",
    "- In the biallelic case and with errors+transitions, this would be distlled down to\n",
    "- P($O_{i}$= C | G = AB)  \n",
    "    = P($O_{i}$= C | G = AB, $E_{i}$ = 1, $S_{i}$ = A) P($E_{i}$ = 1 | $S_{i}$ = A)P($S{i}$ = A)   \n",
    "    +P($O_{i}$= C | G = AB, $E_{i}$ = 1, $S_{i}$ = B) P($E_{i}$ = 1 | $S_{i}$ = B)P($S{i}$ = B)  \n",
    "    = transition rate from A to C * error rate at position i * P($S{i}$ = B) \n",
    "    +transition rate from B to C * error rate at position i * P($S{i}$ = B) \n",
    "    \n",
    "    (see c)\n"
   ]
  },
  {
   "cell_type": "markdown",
   "metadata": {},
   "source": [
    "## (c)\n",
    "\n",
    "- We have some changes to the likelihood function when the transition rates are included for the biallelic cases. \n",
    "Because now four bases could be observed. \n",
    "- heterozygous: \n",
    "- P($E_{1}$,..., $E_{n}$ | G=AB)    \n",
    "= [$\\prod_{i=1,i:A}^n$ (P($O_{i}$ = A |$E_{i}$ = 1, $S_{i}$ = B)P($E_{i}$ = 1 | $S_{i}$ = B) P($S_{i}$ = B) + P($E_{i}$ = 0 | $S_{i}$ = B) P($S_{i}$ = B)]   \n",
    "*[$\\prod_{i=1,i:B}^n$ (P($O_{i}$ = B |$E_{i}$ = 1, $S_{i}$ = A )P($E_{i}$ = 1 | $S_{i}$ = A) P($S_{i}$ = A) + P($E_{i}$ = 0 | $S_{i}$ = B) P($S_{i}$ = B)]  \n",
    "*[$\\prod_{i=1,i:C}^n$ (P($O_{i}$ = C |$E_{i}$ = 1, $S_{i}$ = A)(P($E_{i}$ = 1 | $S_{i}$ = A) P($S_{i}$ = A) + P($O_{i}$ = C |$E_{i}$ = 1, $S_{i}$ = B)(P($E_{i}$ = 1 | $S_{i}$ = B) P($S_{i}$ = B)]  \n",
    "*D's, similar to C.  where abcd are the four diff. bases that we could observe in reads. \n",
    "- homozygous:\n",
    "- P($E_{1}$,..., $E_{n}$ | G=BB)    \n",
    "= [$\\prod_{i=1,i:A}^n$ (P($E_{i}$ = 0 | $S_{i}$ = B) P($S_{i}$ = B)]   \n",
    "*[$\\prod_{i=1,i:C}^n$ (P($O_{i}$ = C |$E_{i}$ = 1, $S_{i}$ = B)(P($E_{i}$ = 1 | $S_{i}$ = B) P($S_{i}$ = B)  \n",
    "*D's * A's, similar to C.  where abcd are the four diff. bases that we could observe in reads.\n",
    "- P($O_{i}$ = C |$E_{i}$ = 1, $S_{i}$ = A) is the transition rate of A to C \n",
    "\n",
    "\n",
    "\n",
    "- We subsequently define a new posterior probability inference function  \n"
   ]
  },
  {
   "cell_type": "code",
   "execution_count": 186,
   "metadata": {},
   "outputs": [
    {
     "data": {
      "text/html": [
       "<div>\n",
       "<style scoped>\n",
       "    .dataframe tbody tr th:only-of-type {\n",
       "        vertical-align: middle;\n",
       "    }\n",
       "\n",
       "    .dataframe tbody tr th {\n",
       "        vertical-align: top;\n",
       "    }\n",
       "\n",
       "    .dataframe thead th {\n",
       "        text-align: right;\n",
       "    }\n",
       "</style>\n",
       "<table border=\"1\" class=\"dataframe\">\n",
       "  <thead>\n",
       "    <tr style=\"text-align: right;\">\n",
       "      <th></th>\n",
       "      <th>A</th>\n",
       "      <th>C</th>\n",
       "      <th>G</th>\n",
       "      <th>T</th>\n",
       "    </tr>\n",
       "  </thead>\n",
       "  <tbody>\n",
       "    <tr>\n",
       "      <th>A</th>\n",
       "      <td>0.0</td>\n",
       "      <td>0.2</td>\n",
       "      <td>0.2</td>\n",
       "      <td>0.6</td>\n",
       "    </tr>\n",
       "    <tr>\n",
       "      <th>C</th>\n",
       "      <td>0.3</td>\n",
       "      <td>0.0</td>\n",
       "      <td>0.6</td>\n",
       "      <td>0.1</td>\n",
       "    </tr>\n",
       "    <tr>\n",
       "      <th>G</th>\n",
       "      <td>0.2</td>\n",
       "      <td>0.7</td>\n",
       "      <td>0.0</td>\n",
       "      <td>0.1</td>\n",
       "    </tr>\n",
       "    <tr>\n",
       "      <th>T</th>\n",
       "      <td>0.5</td>\n",
       "      <td>0.3</td>\n",
       "      <td>0.2</td>\n",
       "      <td>0.0</td>\n",
       "    </tr>\n",
       "  </tbody>\n",
       "</table>\n",
       "</div>"
      ],
      "text/plain": [
       "     A    C    G    T\n",
       "A  0.0  0.2  0.2  0.6\n",
       "C  0.3  0.0  0.6  0.1\n",
       "G  0.2  0.7  0.0  0.1\n",
       "T  0.5  0.3  0.2  0.0"
      ]
     },
     "execution_count": 186,
     "metadata": {},
     "output_type": "execute_result"
    }
   ],
   "source": [
    "transit = pd.read_csv('/Users/linlin/Downloads/transitions.tsv',names=['A','C','G','T'],sep='\\t',index_col=None)\n",
    "#ROWS/INDEX DENOTE TRUE READ, COLS DENOTE OBSERVE.\n",
    "transit.index = ['A','C','G','T']\n",
    "transit"
   ]
  },
  {
   "cell_type": "code",
   "execution_count": 236,
   "metadata": {},
   "outputs": [],
   "source": [
    "err = pd.read_csv('/Users/linlin/Downloads/errors.tsv',names=[\"err rate\"],sep='\\t',index_col=None)\n",
    "err = list(err[\"err rate\"])"
   ]
  },
  {
   "cell_type": "code",
   "execution_count": 199,
   "metadata": {},
   "outputs": [],
   "source": [
    "#Fixing genotype\n",
    "Geno = random.choices([\"A\",\"T\"],k=100)"
   ]
  },
  {
   "cell_type": "code",
   "execution_count": 257,
   "metadata": {},
   "outputs": [],
   "source": [
    "def t_posteriorp(genea,geneb, data, p_sa,p_sb,p_aa,p_bb,p_ab,t_mat=transit):\n",
    "    \"\"\" \n",
    "    here, genea/geneb can be A/A A/T OR T/T because of the way i generate the true genotype G\n",
    "    \"\"\"\n",
    "    dfa = data[data.observation == \"A\"] #positions that read A\n",
    "    dft = data[data.observation == \"T\"] #positions that read T\n",
    "    dfc = data[data.observation == \"C\"] #positions that read C\n",
    "    dfg = data[data.observation == \"G\"] #positions that read G\n",
    "    logpe_ab = sum([np.log((1-err) * p_sa + t_mat.loc[\"T\",\"A\"] * err * p_sb) for err in list(dfa.probability_of_error)] \\\n",
    "             + [np.log((1-err) * p_sb + t_mat.loc[\"A\",\"T\"] * err * p_sa) for err in list(dft.probability_of_error)] \\\n",
    "             + [np.log(t_mat.loc[\"T\",\"C\"] * err * p_sb + t_mat.loc[\"A\",\"C\"] * err * p_sa) for err in list(dfc.probability_of_error)]  \\\n",
    "             + [np.log(t_mat.loc[\"T\",\"G\"] * err * p_sb + t_mat.loc[\"A\",\"G\"] * err * p_sa) for err in list(dfg.probability_of_error)] \n",
    "             )\n",
    "    logpe_aa = sum([np.log(1-err) for err in list(dfa.probability_of_error)] \\\n",
    "                  +[np.log(t_mat.loc[\"A\",\"G\"] * err * p_sa) for err in list(dfg.probability_of_error)] \\\n",
    "                  +[np.log(t_mat.loc[\"A\",\"C\"] * err * p_sa) for err in list(dfc.probability_of_error)] \\\n",
    "                  +[np.log(t_mat.loc[\"A\",\"T\"] * err * p_sa) for err in list(dft.probability_of_error)] \\\n",
    "                    )\n",
    "    logpe_bb = sum([np.log(1-err) for err in list(dft.probability_of_error)] \\\n",
    "                  +[np.log(t_mat.loc[\"T\",\"G\"] * err * p_sb) for err in list(dfg.probability_of_error)] \\\n",
    "                  +[np.log(t_mat.loc[\"T\",\"C\"] * err * p_sb) for err in list(dfc.probability_of_error)] \\\n",
    "                  +[np.log(t_mat.loc[\"T\",\"A\"] * err * p_sb) for err in list(dfa.probability_of_error)] \\\n",
    "                    )\n",
    "    props = {\"AA\":logpe_aa,\"AT\":logpe_ab,\"TT\":logpe_bb}\n",
    "    prior = {\"AA\":p_aa,\"AT\":p_ab,\"TT\":p_bb}\n",
    "    pread_true = np.exp(props[genea+geneb]) \n",
    "    return pread_true * prior[genea+geneb] / (np.exp(logpe_aa) * p_aa + np.exp(logpe_ab) * p_ab + np.exp(logpe_bb) * p_bb)\n",
    "  "
   ]
  },
  {
   "cell_type": "code",
   "execution_count": 254,
   "metadata": {},
   "outputs": [],
   "source": [
    "def generate(error_rate, transition_matrix,G, n_reads=20):\n",
    "    \"\"\"\n",
    "    IMPLEMENTATION OF ORACLE IN A)\n",
    "    INPUT:\n",
    "        error_rate: error rates at each position of the true genotype, which is assumed to have length 100\n",
    "        transition matrix: probability of reading a base as some other bases\n",
    "        n_reads: number of reads generated, default to be 20\n",
    "        G: true genotype\n",
    "    OUTPUT:\n",
    "        data.frame containing the reads and corresponding error rates\n",
    "    \"\"\"\n",
    "    pos = list(random.choices(range(1,100), k = n_reads))\n",
    "    Obs = [G[i] for i in pos]\n",
    "    errs = [error_rate[i] for i in pos]\n",
    "    for i in range(len(Obs)):\n",
    "        if random.uniform(0, 1) < errs[i]:\n",
    "            Obs[i] = random.choices(list(transit.index), list(transition_matrix[Obs[i]]), k=1)\n",
    "            #naming consistent with 2\n",
    "        \n",
    "    return pd.DataFrame({'observation':Obs,'probability_of_error':errs})\n",
    "    \n",
    "    \n"
   ]
  },
  {
   "cell_type": "code",
   "execution_count": 261,
   "metadata": {},
   "outputs": [],
   "source": [
    "def t_simu(error_rate,transition_matrix,G,bnum = 30,n_times = 1000,n_reads=20):\n",
    "    \"\"\"\n",
    "    bnum: number of bins of histogram\n",
    "        n_times: total times of simulations\n",
    "    \"\"\"\n",
    "    p_sa = 0.5 \n",
    "    p_sb = p_sa\n",
    "    # prior probability of genotype in the population\n",
    "    p_aa = 0.95**2\n",
    "    p_bb = 0.05**2\n",
    "    p_ab = 1. - p_aa - p_bb\n",
    "    #simulate\n",
    "    aa = []\n",
    "    at = []\n",
    "    tt = []\n",
    "    for i in range(n_times):\n",
    "        reads = generate(error_rate,transition_matrix,G,n_reads=n_reads)\n",
    "        aa.append(t_posteriorp('A', 'A', reads, p_sa,p_sb,p_aa,p_bb,p_ab,transition_matrix))\n",
    "        at.append(t_posteriorp('A', 'T', reads, p_sa,p_sb,p_aa,p_bb,p_ab,transition_matrix))\n",
    "        tt.append(t_posteriorp('T', 'T', reads, p_sa,p_sb,p_aa,p_bb,p_ab,transition_matrix))\n",
    "    #plot\n",
    "    df = pd.DataFrame({'AA':aa,'AT':at,'TT':tt})\n",
    "    fig, ax = plt.subplots(1,3,sharey=True)\n",
    "    sns.histplot(data = df,x='AA',bins=bnum,ax = ax[0])\n",
    "    sns.histplot(data = df,x='AT',bins=bnum,ax = ax[1])\n",
    "    sns.histplot(data = df,x='TT',bins=bnum,ax = ax[2])\n",
    "    fig.suptitle(\"Inferred Dist. of the posterior prob. of diff. genotypes in 1k simulations, #of reads \"+str(n_reads))\n",
    "    return df\n",
    "\n",
    "\n"
   ]
  },
  {
   "cell_type": "code",
   "execution_count": 262,
   "metadata": {},
   "outputs": [
    {
     "data": {
      "text/html": [
       "<div>\n",
       "<style scoped>\n",
       "    .dataframe tbody tr th:only-of-type {\n",
       "        vertical-align: middle;\n",
       "    }\n",
       "\n",
       "    .dataframe tbody tr th {\n",
       "        vertical-align: top;\n",
       "    }\n",
       "\n",
       "    .dataframe thead th {\n",
       "        text-align: right;\n",
       "    }\n",
       "</style>\n",
       "<table border=\"1\" class=\"dataframe\">\n",
       "  <thead>\n",
       "    <tr style=\"text-align: right;\">\n",
       "      <th></th>\n",
       "      <th>AA</th>\n",
       "      <th>AT</th>\n",
       "      <th>TT</th>\n",
       "    </tr>\n",
       "  </thead>\n",
       "  <tbody>\n",
       "    <tr>\n",
       "      <th>0</th>\n",
       "      <td>0.001391</td>\n",
       "      <td>0.998505</td>\n",
       "      <td>1.045297e-04</td>\n",
       "    </tr>\n",
       "    <tr>\n",
       "      <th>1</th>\n",
       "      <td>0.044552</td>\n",
       "      <td>0.949071</td>\n",
       "      <td>6.376663e-03</td>\n",
       "    </tr>\n",
       "    <tr>\n",
       "      <th>2</th>\n",
       "      <td>0.629192</td>\n",
       "      <td>0.370807</td>\n",
       "      <td>1.536932e-06</td>\n",
       "    </tr>\n",
       "    <tr>\n",
       "      <th>3</th>\n",
       "      <td>0.000345</td>\n",
       "      <td>0.994175</td>\n",
       "      <td>5.480501e-03</td>\n",
       "    </tr>\n",
       "    <tr>\n",
       "      <th>4</th>\n",
       "      <td>0.001515</td>\n",
       "      <td>0.984839</td>\n",
       "      <td>1.364641e-02</td>\n",
       "    </tr>\n",
       "    <tr>\n",
       "      <th>...</th>\n",
       "      <td>...</td>\n",
       "      <td>...</td>\n",
       "      <td>...</td>\n",
       "    </tr>\n",
       "    <tr>\n",
       "      <th>995</th>\n",
       "      <td>0.304180</td>\n",
       "      <td>0.695816</td>\n",
       "      <td>3.521443e-06</td>\n",
       "    </tr>\n",
       "    <tr>\n",
       "      <th>996</th>\n",
       "      <td>0.263757</td>\n",
       "      <td>0.736242</td>\n",
       "      <td>9.250631e-07</td>\n",
       "    </tr>\n",
       "    <tr>\n",
       "      <th>997</th>\n",
       "      <td>0.107528</td>\n",
       "      <td>0.892211</td>\n",
       "      <td>2.613887e-04</td>\n",
       "    </tr>\n",
       "    <tr>\n",
       "      <th>998</th>\n",
       "      <td>0.013768</td>\n",
       "      <td>0.980028</td>\n",
       "      <td>6.203783e-03</td>\n",
       "    </tr>\n",
       "    <tr>\n",
       "      <th>999</th>\n",
       "      <td>0.178152</td>\n",
       "      <td>0.821450</td>\n",
       "      <td>3.974892e-04</td>\n",
       "    </tr>\n",
       "  </tbody>\n",
       "</table>\n",
       "<p>1000 rows × 3 columns</p>\n",
       "</div>"
      ],
      "text/plain": [
       "           AA        AT            TT\n",
       "0    0.001391  0.998505  1.045297e-04\n",
       "1    0.044552  0.949071  6.376663e-03\n",
       "2    0.629192  0.370807  1.536932e-06\n",
       "3    0.000345  0.994175  5.480501e-03\n",
       "4    0.001515  0.984839  1.364641e-02\n",
       "..        ...       ...           ...\n",
       "995  0.304180  0.695816  3.521443e-06\n",
       "996  0.263757  0.736242  9.250631e-07\n",
       "997  0.107528  0.892211  2.613887e-04\n",
       "998  0.013768  0.980028  6.203783e-03\n",
       "999  0.178152  0.821450  3.974892e-04\n",
       "\n",
       "[1000 rows x 3 columns]"
      ]
     },
     "execution_count": 262,
     "metadata": {},
     "output_type": "execute_result"
    },
    {
     "data": {
      "image/png": "[encoded data removed]",
      "text/plain": [
       "<Figure size 432x288 with 3 Axes>"
      ]
     },
     "metadata": {
      "needs_background": "light"
     },
     "output_type": "display_data"
    }
   ],
   "source": [
    "t_simu(err,transit,Geno,n_reads=5)"
   ]
  },
  {
   "cell_type": "code",
   "execution_count": 284,
   "metadata": {},
   "outputs": [
    {
     "data": {
      "image/png": "[encoded data removed]",
      "text/plain": [
       "<Figure size 432x288 with 3 Axes>"
      ]
     },
     "metadata": {
      "needs_background": "light"
     },
     "output_type": "display_data"
    }
   ],
   "source": [
    "df20 = t_simu(err,transit,Geno,n_reads=20)"
   ]
  },
  {
   "cell_type": "code",
   "execution_count": 290,
   "metadata": {},
   "outputs": [
    {
     "data": {
      "text/html": [
       "<div>\n",
       "<style scoped>\n",
       "    .dataframe tbody tr th:only-of-type {\n",
       "        vertical-align: middle;\n",
       "    }\n",
       "\n",
       "    .dataframe tbody tr th {\n",
       "        vertical-align: top;\n",
       "    }\n",
       "\n",
       "    .dataframe thead th {\n",
       "        text-align: right;\n",
       "    }\n",
       "</style>\n",
       "<table border=\"1\" class=\"dataframe\">\n",
       "  <thead>\n",
       "    <tr style=\"text-align: right;\">\n",
       "      <th></th>\n",
       "      <th>AA</th>\n",
       "      <th>AT</th>\n",
       "      <th>TT</th>\n",
       "    </tr>\n",
       "  </thead>\n",
       "  <tbody>\n",
       "    <tr>\n",
       "      <th>count</th>\n",
       "      <td>1000.00000</td>\n",
       "      <td>1000.00000</td>\n",
       "      <td>1000.00000</td>\n",
       "    </tr>\n",
       "    <tr>\n",
       "      <th>mean</th>\n",
       "      <td>0.00842</td>\n",
       "      <td>0.99149</td>\n",
       "      <td>0.00009</td>\n",
       "    </tr>\n",
       "    <tr>\n",
       "      <th>std</th>\n",
       "      <td>0.07053</td>\n",
       "      <td>0.07053</td>\n",
       "      <td>0.00149</td>\n",
       "    </tr>\n",
       "    <tr>\n",
       "      <th>min</th>\n",
       "      <td>0.00000</td>\n",
       "      <td>0.00126</td>\n",
       "      <td>0.00000</td>\n",
       "    </tr>\n",
       "    <tr>\n",
       "      <th>25%</th>\n",
       "      <td>0.00000</td>\n",
       "      <td>1.00000</td>\n",
       "      <td>0.00000</td>\n",
       "    </tr>\n",
       "    <tr>\n",
       "      <th>50%</th>\n",
       "      <td>0.00000</td>\n",
       "      <td>1.00000</td>\n",
       "      <td>0.00000</td>\n",
       "    </tr>\n",
       "    <tr>\n",
       "      <th>75%</th>\n",
       "      <td>0.00000</td>\n",
       "      <td>1.00000</td>\n",
       "      <td>0.00000</td>\n",
       "    </tr>\n",
       "    <tr>\n",
       "      <th>max</th>\n",
       "      <td>0.99874</td>\n",
       "      <td>1.00000</td>\n",
       "      <td>0.04346</td>\n",
       "    </tr>\n",
       "  </tbody>\n",
       "</table>\n",
       "</div>"
      ],
      "text/plain": [
       "                AA           AT           TT\n",
       "count   1000.00000   1000.00000   1000.00000\n",
       "mean       0.00842      0.99149      0.00009\n",
       "std        0.07053      0.07053      0.00149\n",
       "min        0.00000      0.00126      0.00000\n",
       "25%        0.00000      1.00000      0.00000\n",
       "50%        0.00000      1.00000      0.00000\n",
       "75%        0.00000      1.00000      0.00000\n",
       "max        0.99874      1.00000      0.04346"
      ]
     },
     "execution_count": 290,
     "metadata": {},
     "output_type": "execute_result"
    }
   ],
   "source": [
    "df20.describe().apply(lambda s: s.apply (' {0:.5f}'.format)) "
   ]
  },
  {
   "cell_type": "markdown",
   "metadata": {},
   "source": [
    "The probabilities are: AA ~ 0.84%,AT ~ 99.15%, TT ~ 0.01%"
   ]
  },
  {
   "cell_type": "markdown",
   "metadata": {},
   "source": [
    "## (d) \n",
    "then it's pretty much the case in problem 2. "
   ]
  },
  {
   "cell_type": "code",
   "execution_count": 292,
   "metadata": {},
   "outputs": [
    {
     "data": {
      "image/png": "[encoded data removed]",
      "text/plain": [
       "<Figure size 432x288 with 3 Axes>"
      ]
     },
     "metadata": {
      "needs_background": "light"
     },
     "output_type": "display_data"
    }
   ],
   "source": [
    "df20_2 = simu(n_sample = 20, bnum = 30, n_times = 1000)"
   ]
  },
  {
   "cell_type": "code",
   "execution_count": 295,
   "metadata": {},
   "outputs": [
    {
     "data": {
      "text/html": [
       "<div>\n",
       "<style scoped>\n",
       "    .dataframe tbody tr th:only-of-type {\n",
       "        vertical-align: middle;\n",
       "    }\n",
       "\n",
       "    .dataframe tbody tr th {\n",
       "        vertical-align: top;\n",
       "    }\n",
       "\n",
       "    .dataframe thead th {\n",
       "        text-align: right;\n",
       "    }\n",
       "</style>\n",
       "<table border=\"1\" class=\"dataframe\">\n",
       "  <thead>\n",
       "    <tr style=\"text-align: right;\">\n",
       "      <th></th>\n",
       "      <th>AA</th>\n",
       "      <th>AT</th>\n",
       "      <th>TT</th>\n",
       "    </tr>\n",
       "  </thead>\n",
       "  <tbody>\n",
       "    <tr>\n",
       "      <th>count</th>\n",
       "      <td>1000.00000</td>\n",
       "      <td>1000.00000</td>\n",
       "      <td>1000.00000</td>\n",
       "    </tr>\n",
       "    <tr>\n",
       "      <th>mean</th>\n",
       "      <td>0.00154</td>\n",
       "      <td>0.94475</td>\n",
       "      <td>0.05372</td>\n",
       "    </tr>\n",
       "    <tr>\n",
       "      <th>std</th>\n",
       "      <td>0.02780</td>\n",
       "      <td>0.16817</td>\n",
       "      <td>0.16636</td>\n",
       "    </tr>\n",
       "    <tr>\n",
       "      <th>min</th>\n",
       "      <td>0.00000</td>\n",
       "      <td>0.00856</td>\n",
       "      <td>0.00000</td>\n",
       "    </tr>\n",
       "    <tr>\n",
       "      <th>25%</th>\n",
       "      <td>0.00000</td>\n",
       "      <td>0.99242</td>\n",
       "      <td>0.00000</td>\n",
       "    </tr>\n",
       "    <tr>\n",
       "      <th>50%</th>\n",
       "      <td>0.00000</td>\n",
       "      <td>0.99964</td>\n",
       "      <td>0.00014</td>\n",
       "    </tr>\n",
       "    <tr>\n",
       "      <th>75%</th>\n",
       "      <td>0.00000</td>\n",
       "      <td>0.99998</td>\n",
       "      <td>0.00582</td>\n",
       "    </tr>\n",
       "    <tr>\n",
       "      <th>max</th>\n",
       "      <td>0.84638</td>\n",
       "      <td>1.00000</td>\n",
       "      <td>0.99144</td>\n",
       "    </tr>\n",
       "  </tbody>\n",
       "</table>\n",
       "</div>"
      ],
      "text/plain": [
       "                AA           AT           TT\n",
       "count   1000.00000   1000.00000   1000.00000\n",
       "mean       0.00154      0.94475      0.05372\n",
       "std        0.02780      0.16817      0.16636\n",
       "min        0.00000      0.00856      0.00000\n",
       "25%        0.00000      0.99242      0.00000\n",
       "50%        0.00000      0.99964      0.00014\n",
       "75%        0.00000      0.99998      0.00582\n",
       "max        0.84638      1.00000      0.99144"
      ]
     },
     "execution_count": 295,
     "metadata": {},
     "output_type": "execute_result"
    }
   ],
   "source": [
    "df20_2.describe().apply(lambda s: s.apply (' {0:.5f}'.format)) "
   ]
  },
  {
   "cell_type": "markdown",
   "metadata": {},
   "source": [
    "Comparing to the histograms from (c)... The probabilities in this scenario are: AA ~ 0.15%,AT ~ 94.48%, TT ~ 5.37% which seems to be less accurate than results from (b) given the same sample size.  "
   ]
  },
  {
   "cell_type": "markdown",
   "metadata": {},
   "source": [
    "# Problem 4"
   ]
  },
  {
   "cell_type": "markdown",
   "metadata": {},
   "source": [
    "## (c)  \n"
   ]
  },
  {
   "cell_type": "code",
   "execution_count": 364,
   "metadata": {},
   "outputs": [
    {
     "data": {
      "text/plain": [
       "Text(0.5, 1.0, 'N for each e s.t. posterior probability of the true genotype = AB given the reads > 0.99\\n')"
      ]
     },
     "execution_count": 364,
     "metadata": {},
     "output_type": "execute_result"
    },
    {
     "data": {
      "image/png": "[encoded data removed]",
      "text/plain": [
       "<Figure size 432x288 with 1 Axes>"
      ]
     },
     "metadata": {
      "needs_background": "light"
     },
     "output_type": "display_data"
    }
   ],
   "source": [
    "xstep = np.linspace(0.001, 0.999, 100)\n",
    "y=[]\n",
    "for x in xstep:\n",
    "    y.append(np.log(0.095 * (1/0.99 - 1) /(0.95**2 + 0.05**2)) / np.log(2*np.sqrt(x)*np.sqrt(1-x)))\n",
    "plt.plot(list(xstep),y)\n",
    "ax = plt.gca()\n",
    "ax.set_ylim([0,1800])\n",
    "ax.set_ylabel(\"N\")\n",
    "ax.set_xlabel(\"e\")\n",
    "ax.set_xlim([0,1])\n",
    "ax.set_title(\"N for each e s.t. posterior probability of the true genotype = AB given the reads > 0.99\\n\")"
   ]
  },
  {
   "cell_type": "markdown",
   "metadata": {},
   "source": [
    "## (d)"
   ]
  },
  {
   "cell_type": "code",
   "execution_count": 384,
   "metadata": {},
   "outputs": [
    {
     "data": {
      "image/png": "[encoded data removed]",
      "text/plain": [
       "<Figure size 432x288 with 1 Axes>"
      ]
     },
     "metadata": {
      "needs_background": "light"
     },
     "output_type": "display_data"
    },
    {
     "data": {
      "text/plain": [
       "<sympy.plotting.plot.Plot at 0x7f7c71ea3040>"
      ]
     },
     "execution_count": 384,
     "metadata": {},
     "output_type": "execute_result"
    }
   ],
   "source": [
    "from sympy import symbols, plot_implicit\n",
    "\n",
    "e, N = symbols('e N')\n",
    "\n",
    "plot_implicit((p_ab + (1-e)**70 * e**30 * p_aa * 2**(100+N) * e**N + \\\n",
    "              e**70 * (1-e)**30 * p_bb * 2**(100+N) * (1-e)**N)/p_ab <= \n",
    "              1/0.99,(e,0,1),(N,0,900))\n"
   ]
  },
  {
   "cell_type": "markdown",
   "metadata": {},
   "source": []
  },
  {
   "cell_type": "markdown",
   "metadata": {},
   "source": []
  }
 ],
 "metadata": {
  "kernelspec": {
   "display_name": "Python 3",
   "language": "python",
   "name": "python3"
  },
  "language_info": {
   "codemirror_mode": {
    "name": "ipython",
    "version": 3
   },
   "file_extension": ".py",
   "mimetype": "text/x-python",
   "name": "python",
   "nbconvert_exporter": "python",
   "pygments_lexer": "ipython3",
   "version": "3.8.8"
  },
  "vscode": {
   "interpreter": {
    "hash": "dea020618c6d75d6a2b362878fa8ffdb3663cdd93010adabd1eb95477499d165"
   }
  }
 },
 "nbformat": 4,
 "nbformat_minor": 2
}
