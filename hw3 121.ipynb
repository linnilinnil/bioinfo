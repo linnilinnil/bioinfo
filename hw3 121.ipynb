{
 "cells": [
  {
   "attachments": {},
   "cell_type": "markdown",
   "metadata": {},
   "source": [
    "Let $r_{i}$ denotes one of the N reads generated during sequencing, and let $l_{i}$ denotes the length of the read. So, $r_{i}$ [1], $r_{i}$ [$l_{i}$] would denote the base call at each position of the read. Subsequently, use $e_{i}[j]$ to denote the error rate at position j of the read $r_{i}$, and transition rates between the same pair of bases are assumed to be the same for any position from any read. Let $m_{i}$[1...$l_{i}$] denotes the aligned sequence's corresponding base for the read $r_{i}$. Then, assume there are M sequences to be mapped to, and let $a_{i}$[1...N] be the indicator of whether the read $r_{i}$ could align with a sequence (1 for yes, 0 for no). Thus, the probability of a read i being generated from a sequence j is P($r_{i}$ |$m_{i}$[j]==1) =  $\\prod_{i=1}^j$ P($r_{i}$|$e_{i}[j]$,transition,$m_{i}[j]$)"
   ]
  },
  {
   "cell_type": "code",
   "execution_count": null,
   "metadata": {},
   "outputs": [],
   "source": []
  }
 ],
 "metadata": {
  "kernelspec": {
   "display_name": "Python 3",
   "language": "python",
   "name": "python3"
  },
  "language_info": {
   "name": "python",
   "version": "3.9.6"
  },
  "orig_nbformat": 4,
  "vscode": {
   "interpreter": {
    "hash": "31f2aee4e71d21fbe5cf8b01ff0e069b9275f58929596ceb00d14d90e3e16cd6"
   }
  }
 },
 "nbformat": 4,
 "nbformat_minor": 2
}
